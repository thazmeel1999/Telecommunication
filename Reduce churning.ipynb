{
 "cells": [
  {
   "cell_type": "markdown",
   "metadata": {},
   "source": [
    "# **Reducing Churn**\n",
    " *A Data Science Project By Thazmeel Ahmed*"
   ]
  },
  {
   "cell_type": "markdown",
   "metadata": {},
   "source": [
    "## Overview\n",
    "\n",
    "+ Recognizing/defining the business problem\n",
    "+ Data Wrangling\n",
    "+ Exploratory Data Analysis (EDA) and Visualizations\n",
    "+ Data Storytelling\n",
    "+ Training and Testing Machine Learning models\n",
    "+ Recommendations to retain the customers\n",
    "+ Scope for future work\n",
    "+ A Final Note\n",
    "+ References\n",
    "\n",
    "### 1) Business Problem\n",
    "\n",
    "A telecom company has been affected by the increasing number of customers subscribing to the services of a competitor. It is much more expensive to attract new customer than retaining old customer. At the same time, spending too much on or spending on the wrong factor for retaining customer who has no intention to leave (or who was not leaving for that factor which was addressed) could be a waste of  money. Therefore it is important to identify the customer who has high probability of leaving and zero down on the reason for it. An analysis of the past records of the customers can give great insights on who might leave and what is the cause. The telecom company already has this data available and data scientist need not collect the data in this case. The data can be found in [IBM page](https://www.ibm.com/communities/analytics/watson-analytics-blog/guide-to-sample-datasets/) : [Telecom Dataset]('https://community.watsonanalytics.com/wp-content/uploads/2015/03/WA_Fn-UseC_-Telco-Customer-Churn.csv')\n",
    "\n",
    "### Step by Step approach to Predicting and Preventing Customer Churn Rate\n",
    "#### Quick Examination of the Dataset"
   ]
  },
  {
   "cell_type": "code",
   "execution_count": 1,
   "metadata": {
    "ExecuteTime": {
     "end_time": "2018-02-18T23:32:14.798932Z",
     "start_time": "2018-02-18T23:32:08.425625Z"
    }
   },
   "outputs": [
    {
     "name": "stderr",
     "output_type": "stream",
     "text": [
      "C:\\Users\\Aparn\\Anaconda3\\lib\\site-packages\\statsmodels\\compat\\pandas.py:56: FutureWarning: The pandas.core.datetools module is deprecated and will be removed in a future version. Please use the pandas.tseries module instead.\n",
      "  from pandas.core import datetools\n"
     ]
    }
   ],
   "source": [
    "import numpy as np\n",
    "import scipy as sp\n",
    "import pandas as pd\n",
    "\n",
    "import matplotlib as mpl\n",
    "%matplotlib inline\n",
    "import matplotlib.cm as cm\n",
    "import matplotlib.pyplot as plt\n",
    "import seaborn as sns\n",
    "import statsmodels.api as sm\n",
    "from statsmodels.formula.api import ols\n",
    "import pylab\n",
    "\n",
    "import time\n",
    "from scipy.stats import pearsonr"
   ]
  },
  {
   "cell_type": "code",
   "execution_count": 2,
   "metadata": {
    "ExecuteTime": {
     "end_time": "2018-02-18T23:32:18.733161Z",
     "start_time": "2018-02-18T23:32:14.798932Z"
    }
   },
   "outputs": [
    {
     "name": "stdout",
     "output_type": "stream",
     "text": [
      "<class 'pandas.core.frame.DataFrame'>\n",
      "RangeIndex: 7043 entries, 0 to 7042\n",
      "Data columns (total 21 columns):\n",
      "customerID          7043 non-null object\n",
      "gender              7043 non-null object\n",
      "SeniorCitizen       7043 non-null int64\n",
      "Partner             7043 non-null object\n",
      "Dependents          7043 non-null object\n",
      "tenure              7043 non-null int64\n",
      "PhoneService        7043 non-null object\n",
      "MultipleLines       7043 non-null object\n",
      "InternetService     7043 non-null object\n",
      "OnlineSecurity      7043 non-null object\n",
      "OnlineBackup        7043 non-null object\n",
      "DeviceProtection    7043 non-null object\n",
      "TechSupport         7043 non-null object\n",
      "StreamingTV         7043 non-null object\n",
      "StreamingMovies     7043 non-null object\n",
      "Contract            7043 non-null object\n",
      "PaperlessBilling    7043 non-null object\n",
      "PaymentMethod       7043 non-null object\n",
      "MonthlyCharges      7043 non-null float64\n",
      "TotalCharges        7043 non-null object\n",
      "Churn               7043 non-null object\n",
      "dtypes: float64(1), int64(2), object(18)\n",
      "memory usage: 1.1+ MB\n"
     ]
    },
    {
     "data": {
      "text/html": [
       "<div>\n",
       "<style scoped>\n",
       "    .dataframe tbody tr th:only-of-type {\n",
       "        vertical-align: middle;\n",
       "    }\n",
       "\n",
       "    .dataframe tbody tr th {\n",
       "        vertical-align: top;\n",
       "    }\n",
       "\n",
       "    .dataframe thead th {\n",
       "        text-align: right;\n",
       "    }\n",
       "</style>\n",
       "<table border=\"1\" class=\"dataframe\">\n",
       "  <thead>\n",
       "    <tr style=\"text-align: right;\">\n",
       "      <th></th>\n",
       "      <th>customerID</th>\n",
       "      <th>gender</th>\n",
       "      <th>SeniorCitizen</th>\n",
       "      <th>Partner</th>\n",
       "      <th>Dependents</th>\n",
       "      <th>tenure</th>\n",
       "      <th>PhoneService</th>\n",
       "      <th>MultipleLines</th>\n",
       "      <th>InternetService</th>\n",
       "      <th>OnlineSecurity</th>\n",
       "      <th>...</th>\n",
       "      <th>DeviceProtection</th>\n",
       "      <th>TechSupport</th>\n",
       "      <th>StreamingTV</th>\n",
       "      <th>StreamingMovies</th>\n",
       "      <th>Contract</th>\n",
       "      <th>PaperlessBilling</th>\n",
       "      <th>PaymentMethod</th>\n",
       "      <th>MonthlyCharges</th>\n",
       "      <th>TotalCharges</th>\n",
       "      <th>Churn</th>\n",
       "    </tr>\n",
       "  </thead>\n",
       "  <tbody>\n",
       "    <tr>\n",
       "      <th>0</th>\n",
       "      <td>7590-VHVEG</td>\n",
       "      <td>Female</td>\n",
       "      <td>0</td>\n",
       "      <td>Yes</td>\n",
       "      <td>No</td>\n",
       "      <td>1</td>\n",
       "      <td>No</td>\n",
       "      <td>No phone service</td>\n",
       "      <td>DSL</td>\n",
       "      <td>No</td>\n",
       "      <td>...</td>\n",
       "      <td>No</td>\n",
       "      <td>No</td>\n",
       "      <td>No</td>\n",
       "      <td>No</td>\n",
       "      <td>Month-to-month</td>\n",
       "      <td>Yes</td>\n",
       "      <td>Electronic check</td>\n",
       "      <td>29.85</td>\n",
       "      <td>29.85</td>\n",
       "      <td>No</td>\n",
       "    </tr>\n",
       "    <tr>\n",
       "      <th>1</th>\n",
       "      <td>5575-GNVDE</td>\n",
       "      <td>Male</td>\n",
       "      <td>0</td>\n",
       "      <td>No</td>\n",
       "      <td>No</td>\n",
       "      <td>34</td>\n",
       "      <td>Yes</td>\n",
       "      <td>No</td>\n",
       "      <td>DSL</td>\n",
       "      <td>Yes</td>\n",
       "      <td>...</td>\n",
       "      <td>Yes</td>\n",
       "      <td>No</td>\n",
       "      <td>No</td>\n",
       "      <td>No</td>\n",
       "      <td>One year</td>\n",
       "      <td>No</td>\n",
       "      <td>Mailed check</td>\n",
       "      <td>56.95</td>\n",
       "      <td>1889.5</td>\n",
       "      <td>No</td>\n",
       "    </tr>\n",
       "    <tr>\n",
       "      <th>2</th>\n",
       "      <td>3668-QPYBK</td>\n",
       "      <td>Male</td>\n",
       "      <td>0</td>\n",
       "      <td>No</td>\n",
       "      <td>No</td>\n",
       "      <td>2</td>\n",
       "      <td>Yes</td>\n",
       "      <td>No</td>\n",
       "      <td>DSL</td>\n",
       "      <td>Yes</td>\n",
       "      <td>...</td>\n",
       "      <td>No</td>\n",
       "      <td>No</td>\n",
       "      <td>No</td>\n",
       "      <td>No</td>\n",
       "      <td>Month-to-month</td>\n",
       "      <td>Yes</td>\n",
       "      <td>Mailed check</td>\n",
       "      <td>53.85</td>\n",
       "      <td>108.15</td>\n",
       "      <td>Yes</td>\n",
       "    </tr>\n",
       "    <tr>\n",
       "      <th>3</th>\n",
       "      <td>7795-CFOCW</td>\n",
       "      <td>Male</td>\n",
       "      <td>0</td>\n",
       "      <td>No</td>\n",
       "      <td>No</td>\n",
       "      <td>45</td>\n",
       "      <td>No</td>\n",
       "      <td>No phone service</td>\n",
       "      <td>DSL</td>\n",
       "      <td>Yes</td>\n",
       "      <td>...</td>\n",
       "      <td>Yes</td>\n",
       "      <td>Yes</td>\n",
       "      <td>No</td>\n",
       "      <td>No</td>\n",
       "      <td>One year</td>\n",
       "      <td>No</td>\n",
       "      <td>Bank transfer (automatic)</td>\n",
       "      <td>42.30</td>\n",
       "      <td>1840.75</td>\n",
       "      <td>No</td>\n",
       "    </tr>\n",
       "    <tr>\n",
       "      <th>4</th>\n",
       "      <td>9237-HQITU</td>\n",
       "      <td>Female</td>\n",
       "      <td>0</td>\n",
       "      <td>No</td>\n",
       "      <td>No</td>\n",
       "      <td>2</td>\n",
       "      <td>Yes</td>\n",
       "      <td>No</td>\n",
       "      <td>Fiber optic</td>\n",
       "      <td>No</td>\n",
       "      <td>...</td>\n",
       "      <td>No</td>\n",
       "      <td>No</td>\n",
       "      <td>No</td>\n",
       "      <td>No</td>\n",
       "      <td>Month-to-month</td>\n",
       "      <td>Yes</td>\n",
       "      <td>Electronic check</td>\n",
       "      <td>70.70</td>\n",
       "      <td>151.65</td>\n",
       "      <td>Yes</td>\n",
       "    </tr>\n",
       "  </tbody>\n",
       "</table>\n",
       "<p>5 rows × 21 columns</p>\n",
       "</div>"
      ],
      "text/plain": [
       "   customerID  gender  SeniorCitizen Partner Dependents  tenure PhoneService  \\\n",
       "0  7590-VHVEG  Female              0     Yes         No       1           No   \n",
       "1  5575-GNVDE    Male              0      No         No      34          Yes   \n",
       "2  3668-QPYBK    Male              0      No         No       2          Yes   \n",
       "3  7795-CFOCW    Male              0      No         No      45           No   \n",
       "4  9237-HQITU  Female              0      No         No       2          Yes   \n",
       "\n",
       "      MultipleLines InternetService OnlineSecurity  ...  DeviceProtection  \\\n",
       "0  No phone service             DSL             No  ...                No   \n",
       "1                No             DSL            Yes  ...               Yes   \n",
       "2                No             DSL            Yes  ...                No   \n",
       "3  No phone service             DSL            Yes  ...               Yes   \n",
       "4                No     Fiber optic             No  ...                No   \n",
       "\n",
       "  TechSupport StreamingTV StreamingMovies        Contract PaperlessBilling  \\\n",
       "0          No          No              No  Month-to-month              Yes   \n",
       "1          No          No              No        One year               No   \n",
       "2          No          No              No  Month-to-month              Yes   \n",
       "3         Yes          No              No        One year               No   \n",
       "4          No          No              No  Month-to-month              Yes   \n",
       "\n",
       "               PaymentMethod MonthlyCharges  TotalCharges Churn  \n",
       "0           Electronic check          29.85         29.85    No  \n",
       "1               Mailed check          56.95        1889.5    No  \n",
       "2               Mailed check          53.85        108.15   Yes  \n",
       "3  Bank transfer (automatic)          42.30       1840.75    No  \n",
       "4           Electronic check          70.70        151.65   Yes  \n",
       "\n",
       "[5 rows x 21 columns]"
      ]
     },
     "execution_count": 2,
     "metadata": {},
     "output_type": "execute_result"
    }
   ],
   "source": [
    "ch = pd.read_csv('https://community.watsonanalytics.com/wp-content/uploads/2015/03/WA_Fn-UseC_-Telco-Customer-Churn.csv')\n",
    "ch.info()\n",
    "ch.head()"
   ]
  },
  {
   "cell_type": "markdown",
   "metadata": {},
   "source": [
    "Note that,\n",
    "\n",
    "Target (Dependent) Variable: **Churn**\n",
    "\n",
    "Feature (Independent) Variables: 19 of them out of 21 shown above. Churn is target, Customer ID is just unique identity.\n",
    "\n",
    "**We can divide predictor variables into,**\n",
    "+ Service specific : \n",
    "  - Phone: PhoneService, MultipleLines\n",
    "  - Internet: InternetService, Online Security, Online backup, Streaming TV, Streaming Movies, Tech support, Device protection\n",
    "+ Person specific : gender, SeniorCitizen,Partner, Dependents, tenure (loyalty)\n",
    "+ Money specific: Monthly Charges, TotalCharges, Contract, Paperlessbilling, Payment Method\n",
    "\n",
    "In a real scenario, we would get additional information from the business owner on relationship between charges and remaining factors. Still we will have to verify them from the data, because their assumptions on how they run business and the reality can differ. Hence,\n",
    "\n",
    "**The Questions to which we seek answers:**\n",
    "- Are monthly charges different for different contract types?\n",
    "- Are monthly charges solely dependent on the number/type of the services?\n",
    "- Are there any discounts given to loyal customers?\n",
    "- Is there a correlation between monthly charges and churn?\n",
    "- Is there a correlation between tenure and churn?\n",
    "- Is there a correlation between certain type of services and churn?\n",
    "- Is there any person specific trends in churn?\n",
    "- Can we make predictions on likelihood of a customer churn given the predictor variables listed above\n",
    "\n",
    "and, Try quantifying these correlations into actionable items.\n",
    "\n",
    "First check what percentage of the given dataset has data for customers who switch and what percentage is loyal?"
   ]
  },
  {
   "cell_type": "code",
   "execution_count": 3,
   "metadata": {
    "ExecuteTime": {
     "end_time": "2018-02-18T23:32:18.850286Z",
     "start_time": "2018-02-18T23:32:18.733161Z"
    }
   },
   "outputs": [
    {
     "name": "stdout",
     "output_type": "stream",
     "text": [
      "Overall Customer Churn percentage in the given dataset is 26.54 %\n"
     ]
    },
    {
     "data": {
      "image/png": "[encoded data removed]",
      "text/plain": [
       "<matplotlib.figure.Figure at 0x29b9152da90>"
      ]
     },
     "metadata": {},
     "output_type": "display_data"
    }
   ],
   "source": [
    "(ch.groupby('Churn')['customerID'].count()/ch['customerID'].count()).plot.bar()\n",
    "plt.title('Proportion of Customers')\n",
    "plt.ylabel('Proportion')\n",
    "plt.xlabel('Left (Yes) or Remained (No)')\n",
    "print('Overall Customer Churn percentage in the given dataset is {} %'.format(round(ch.Churn.replace({'No':0,'Yes':1}).mean()*100,2)))"
   ]
  },
  {
   "cell_type": "markdown",
   "metadata": {},
   "source": [
    "26.54% or 1869 of the 7043 records in the dataset belong to customers who switched to a competitor. This is a binary classification problem with moderately  imbalanced dataset. "
   ]
  },
  {
   "cell_type": "markdown",
   "metadata": {},
   "source": [
    "### 2) Data Wrangling\n",
    "The output of the cell number 2 above gives all the data types and counts of non-null entries. Non-null does not mean valid entries. We need to ensure all of them have meaningful datatypes and valid entries. The TotalCharges is of type object, which means there is some non-numeric entry. It is expected to be float. Look at non-churn and churn group separately, as their dynamics might differ. Compute the I choose to impute the invalid entries with median of each group.\n",
    "\n",
    "Senior Citizen is a category variable, however it is given as int. It need not be converted, as it will be eventually converted back to numeric."
   ]
  },
  {
   "cell_type": "code",
   "execution_count": 4,
   "metadata": {
    "ExecuteTime": {
     "end_time": "2018-02-18T23:32:18.892738Z",
     "start_time": "2018-02-18T23:32:18.850286Z"
    }
   },
   "outputs": [
    {
     "data": {
      "text/html": [
       "<div>\n",
       "<style scoped>\n",
       "    .dataframe tbody tr th:only-of-type {\n",
       "        vertical-align: middle;\n",
       "    }\n",
       "\n",
       "    .dataframe tbody tr th {\n",
       "        vertical-align: top;\n",
       "    }\n",
       "\n",
       "    .dataframe thead th {\n",
       "        text-align: right;\n",
       "    }\n",
       "</style>\n",
       "<table border=\"1\" class=\"dataframe\">\n",
       "  <thead>\n",
       "    <tr style=\"text-align: right;\">\n",
       "      <th></th>\n",
       "      <th>customerID</th>\n",
       "      <th>gender</th>\n",
       "      <th>SeniorCitizen</th>\n",
       "      <th>Partner</th>\n",
       "      <th>Dependents</th>\n",
       "      <th>tenure</th>\n",
       "      <th>PhoneService</th>\n",
       "      <th>MultipleLines</th>\n",
       "      <th>InternetService</th>\n",
       "      <th>OnlineSecurity</th>\n",
       "      <th>...</th>\n",
       "      <th>DeviceProtection</th>\n",
       "      <th>TechSupport</th>\n",
       "      <th>StreamingTV</th>\n",
       "      <th>StreamingMovies</th>\n",
       "      <th>Contract</th>\n",
       "      <th>PaperlessBilling</th>\n",
       "      <th>PaymentMethod</th>\n",
       "      <th>MonthlyCharges</th>\n",
       "      <th>TotalCharges</th>\n",
       "      <th>Churn</th>\n",
       "    </tr>\n",
       "  </thead>\n",
       "  <tbody>\n",
       "    <tr>\n",
       "      <th>488</th>\n",
       "      <td>4472-LVYGI</td>\n",
       "      <td>Female</td>\n",
       "      <td>0</td>\n",
       "      <td>Yes</td>\n",
       "      <td>Yes</td>\n",
       "      <td>0</td>\n",
       "      <td>No</td>\n",
       "      <td>No phone service</td>\n",
       "      <td>DSL</td>\n",
       "      <td>Yes</td>\n",
       "      <td>...</td>\n",
       "      <td>Yes</td>\n",
       "      <td>Yes</td>\n",
       "      <td>Yes</td>\n",
       "      <td>No</td>\n",
       "      <td>Two year</td>\n",
       "      <td>Yes</td>\n",
       "      <td>Bank transfer (automatic)</td>\n",
       "      <td>52.55</td>\n",
       "      <td></td>\n",
       "      <td>No</td>\n",
       "    </tr>\n",
       "    <tr>\n",
       "      <th>753</th>\n",
       "      <td>3115-CZMZD</td>\n",
       "      <td>Male</td>\n",
       "      <td>0</td>\n",
       "      <td>No</td>\n",
       "      <td>Yes</td>\n",
       "      <td>0</td>\n",
       "      <td>Yes</td>\n",
       "      <td>No</td>\n",
       "      <td>No</td>\n",
       "      <td>No internet service</td>\n",
       "      <td>...</td>\n",
       "      <td>No internet service</td>\n",
       "      <td>No internet service</td>\n",
       "      <td>No internet service</td>\n",
       "      <td>No internet service</td>\n",
       "      <td>Two year</td>\n",
       "      <td>No</td>\n",
       "      <td>Mailed check</td>\n",
       "      <td>20.25</td>\n",
       "      <td></td>\n",
       "      <td>No</td>\n",
       "    </tr>\n",
       "    <tr>\n",
       "      <th>936</th>\n",
       "      <td>5709-LVOEQ</td>\n",
       "      <td>Female</td>\n",
       "      <td>0</td>\n",
       "      <td>Yes</td>\n",
       "      <td>Yes</td>\n",
       "      <td>0</td>\n",
       "      <td>Yes</td>\n",
       "      <td>No</td>\n",
       "      <td>DSL</td>\n",
       "      <td>Yes</td>\n",
       "      <td>...</td>\n",
       "      <td>Yes</td>\n",
       "      <td>No</td>\n",
       "      <td>Yes</td>\n",
       "      <td>Yes</td>\n",
       "      <td>Two year</td>\n",
       "      <td>No</td>\n",
       "      <td>Mailed check</td>\n",
       "      <td>80.85</td>\n",
       "      <td></td>\n",
       "      <td>No</td>\n",
       "    </tr>\n",
       "    <tr>\n",
       "      <th>1082</th>\n",
       "      <td>4367-NUYAO</td>\n",
       "      <td>Male</td>\n",
       "      <td>0</td>\n",
       "      <td>Yes</td>\n",
       "      <td>Yes</td>\n",
       "      <td>0</td>\n",
       "      <td>Yes</td>\n",
       "      <td>Yes</td>\n",
       "      <td>No</td>\n",
       "      <td>No internet service</td>\n",
       "      <td>...</td>\n",
       "      <td>No internet service</td>\n",
       "      <td>No internet service</td>\n",
       "      <td>No internet service</td>\n",
       "      <td>No internet service</td>\n",
       "      <td>Two year</td>\n",
       "      <td>No</td>\n",
       "      <td>Mailed check</td>\n",
       "      <td>25.75</td>\n",
       "      <td></td>\n",
       "      <td>No</td>\n",
       "    </tr>\n",
       "    <tr>\n",
       "      <th>1340</th>\n",
       "      <td>1371-DWPAZ</td>\n",
       "      <td>Female</td>\n",
       "      <td>0</td>\n",
       "      <td>Yes</td>\n",
       "      <td>Yes</td>\n",
       "      <td>0</td>\n",
       "      <td>No</td>\n",
       "      <td>No phone service</td>\n",
       "      <td>DSL</td>\n",
       "      <td>Yes</td>\n",
       "      <td>...</td>\n",
       "      <td>Yes</td>\n",
       "      <td>Yes</td>\n",
       "      <td>Yes</td>\n",
       "      <td>No</td>\n",
       "      <td>Two year</td>\n",
       "      <td>No</td>\n",
       "      <td>Credit card (automatic)</td>\n",
       "      <td>56.05</td>\n",
       "      <td></td>\n",
       "      <td>No</td>\n",
       "    </tr>\n",
       "    <tr>\n",
       "      <th>3331</th>\n",
       "      <td>7644-OMVMY</td>\n",
       "      <td>Male</td>\n",
       "      <td>0</td>\n",
       "      <td>Yes</td>\n",
       "      <td>Yes</td>\n",
       "      <td>0</td>\n",
       "      <td>Yes</td>\n",
       "      <td>No</td>\n",
       "      <td>No</td>\n",
       "      <td>No internet service</td>\n",
       "      <td>...</td>\n",
       "      <td>No internet service</td>\n",
       "      <td>No internet service</td>\n",
       "      <td>No internet service</td>\n",
       "      <td>No internet service</td>\n",
       "      <td>Two year</td>\n",
       "      <td>No</td>\n",
       "      <td>Mailed check</td>\n",
       "      <td>19.85</td>\n",
       "      <td></td>\n",
       "      <td>No</td>\n",
       "    </tr>\n",
       "    <tr>\n",
       "      <th>3826</th>\n",
       "      <td>3213-VVOLG</td>\n",
       "      <td>Male</td>\n",
       "      <td>0</td>\n",
       "      <td>Yes</td>\n",
       "      <td>Yes</td>\n",
       "      <td>0</td>\n",
       "      <td>Yes</td>\n",
       "      <td>Yes</td>\n",
       "      <td>No</td>\n",
       "      <td>No internet service</td>\n",
       "      <td>...</td>\n",
       "      <td>No internet service</td>\n",
       "      <td>No internet service</td>\n",
       "      <td>No internet service</td>\n",
       "      <td>No internet service</td>\n",
       "      <td>Two year</td>\n",
       "      <td>No</td>\n",
       "      <td>Mailed check</td>\n",
       "      <td>25.35</td>\n",
       "      <td></td>\n",
       "      <td>No</td>\n",
       "    </tr>\n",
       "    <tr>\n",
       "      <th>4380</th>\n",
       "      <td>2520-SGTTA</td>\n",
       "      <td>Female</td>\n",
       "      <td>0</td>\n",
       "      <td>Yes</td>\n",
       "      <td>Yes</td>\n",
       "      <td>0</td>\n",
       "      <td>Yes</td>\n",
       "      <td>No</td>\n",
       "      <td>No</td>\n",
       "      <td>No internet service</td>\n",
       "      <td>...</td>\n",
       "      <td>No internet service</td>\n",
       "      <td>No internet service</td>\n",
       "      <td>No internet service</td>\n",
       "      <td>No internet service</td>\n",
       "      <td>Two year</td>\n",
       "      <td>No</td>\n",
       "      <td>Mailed check</td>\n",
       "      <td>20.00</td>\n",
       "      <td></td>\n",
       "      <td>No</td>\n",
       "    </tr>\n",
       "    <tr>\n",
       "      <th>5218</th>\n",
       "      <td>2923-ARZLG</td>\n",
       "      <td>Male</td>\n",
       "      <td>0</td>\n",
       "      <td>Yes</td>\n",
       "      <td>Yes</td>\n",
       "      <td>0</td>\n",
       "      <td>Yes</td>\n",
       "      <td>No</td>\n",
       "      <td>No</td>\n",
       "      <td>No internet service</td>\n",
       "      <td>...</td>\n",
       "      <td>No internet service</td>\n",
       "      <td>No internet service</td>\n",
       "      <td>No internet service</td>\n",
       "      <td>No internet service</td>\n",
       "      <td>One year</td>\n",
       "      <td>Yes</td>\n",
       "      <td>Mailed check</td>\n",
       "      <td>19.70</td>\n",
       "      <td></td>\n",
       "      <td>No</td>\n",
       "    </tr>\n",
       "    <tr>\n",
       "      <th>6670</th>\n",
       "      <td>4075-WKNIU</td>\n",
       "      <td>Female</td>\n",
       "      <td>0</td>\n",
       "      <td>Yes</td>\n",
       "      <td>Yes</td>\n",
       "      <td>0</td>\n",
       "      <td>Yes</td>\n",
       "      <td>Yes</td>\n",
       "      <td>DSL</td>\n",
       "      <td>No</td>\n",
       "      <td>...</td>\n",
       "      <td>Yes</td>\n",
       "      <td>Yes</td>\n",
       "      <td>Yes</td>\n",
       "      <td>No</td>\n",
       "      <td>Two year</td>\n",
       "      <td>No</td>\n",
       "      <td>Mailed check</td>\n",
       "      <td>73.35</td>\n",
       "      <td></td>\n",
       "      <td>No</td>\n",
       "    </tr>\n",
       "    <tr>\n",
       "      <th>6754</th>\n",
       "      <td>2775-SEFEE</td>\n",
       "      <td>Male</td>\n",
       "      <td>0</td>\n",
       "      <td>No</td>\n",
       "      <td>Yes</td>\n",
       "      <td>0</td>\n",
       "      <td>Yes</td>\n",
       "      <td>Yes</td>\n",
       "      <td>DSL</td>\n",
       "      <td>Yes</td>\n",
       "      <td>...</td>\n",
       "      <td>No</td>\n",
       "      <td>Yes</td>\n",
       "      <td>No</td>\n",
       "      <td>No</td>\n",
       "      <td>Two year</td>\n",
       "      <td>Yes</td>\n",
       "      <td>Bank transfer (automatic)</td>\n",
       "      <td>61.90</td>\n",
       "      <td></td>\n",
       "      <td>No</td>\n",
       "    </tr>\n",
       "  </tbody>\n",
       "</table>\n",
       "<p>11 rows × 21 columns</p>\n",
       "</div>"
      ],
      "text/plain": [
       "      customerID  gender  SeniorCitizen Partner Dependents  tenure  \\\n",
       "488   4472-LVYGI  Female              0     Yes        Yes       0   \n",
       "753   3115-CZMZD    Male              0      No        Yes       0   \n",
       "936   5709-LVOEQ  Female              0     Yes        Yes       0   \n",
       "1082  4367-NUYAO    Male              0     Yes        Yes       0   \n",
       "1340  1371-DWPAZ  Female              0     Yes        Yes       0   \n",
       "3331  7644-OMVMY    Male              0     Yes        Yes       0   \n",
       "3826  3213-VVOLG    Male              0     Yes        Yes       0   \n",
       "4380  2520-SGTTA  Female              0     Yes        Yes       0   \n",
       "5218  2923-ARZLG    Male              0     Yes        Yes       0   \n",
       "6670  4075-WKNIU  Female              0     Yes        Yes       0   \n",
       "6754  2775-SEFEE    Male              0      No        Yes       0   \n",
       "\n",
       "     PhoneService     MultipleLines InternetService       OnlineSecurity  \\\n",
       "488            No  No phone service             DSL                  Yes   \n",
       "753           Yes                No              No  No internet service   \n",
       "936           Yes                No             DSL                  Yes   \n",
       "1082          Yes               Yes              No  No internet service   \n",
       "1340           No  No phone service             DSL                  Yes   \n",
       "3331          Yes                No              No  No internet service   \n",
       "3826          Yes               Yes              No  No internet service   \n",
       "4380          Yes                No              No  No internet service   \n",
       "5218          Yes                No              No  No internet service   \n",
       "6670          Yes               Yes             DSL                   No   \n",
       "6754          Yes               Yes             DSL                  Yes   \n",
       "\n",
       "      ...      DeviceProtection          TechSupport          StreamingTV  \\\n",
       "488   ...                   Yes                  Yes                  Yes   \n",
       "753   ...   No internet service  No internet service  No internet service   \n",
       "936   ...                   Yes                   No                  Yes   \n",
       "1082  ...   No internet service  No internet service  No internet service   \n",
       "1340  ...                   Yes                  Yes                  Yes   \n",
       "3331  ...   No internet service  No internet service  No internet service   \n",
       "3826  ...   No internet service  No internet service  No internet service   \n",
       "4380  ...   No internet service  No internet service  No internet service   \n",
       "5218  ...   No internet service  No internet service  No internet service   \n",
       "6670  ...                   Yes                  Yes                  Yes   \n",
       "6754  ...                    No                  Yes                   No   \n",
       "\n",
       "          StreamingMovies  Contract PaperlessBilling  \\\n",
       "488                    No  Two year              Yes   \n",
       "753   No internet service  Two year               No   \n",
       "936                   Yes  Two year               No   \n",
       "1082  No internet service  Two year               No   \n",
       "1340                   No  Two year               No   \n",
       "3331  No internet service  Two year               No   \n",
       "3826  No internet service  Two year               No   \n",
       "4380  No internet service  Two year               No   \n",
       "5218  No internet service  One year              Yes   \n",
       "6670                   No  Two year               No   \n",
       "6754                   No  Two year              Yes   \n",
       "\n",
       "                  PaymentMethod MonthlyCharges  TotalCharges Churn  \n",
       "488   Bank transfer (automatic)          52.55                  No  \n",
       "753                Mailed check          20.25                  No  \n",
       "936                Mailed check          80.85                  No  \n",
       "1082               Mailed check          25.75                  No  \n",
       "1340    Credit card (automatic)          56.05                  No  \n",
       "3331               Mailed check          19.85                  No  \n",
       "3826               Mailed check          25.35                  No  \n",
       "4380               Mailed check          20.00                  No  \n",
       "5218               Mailed check          19.70                  No  \n",
       "6670               Mailed check          73.35                  No  \n",
       "6754  Bank transfer (automatic)          61.90                  No  \n",
       "\n",
       "[11 rows x 21 columns]"
      ]
     },
     "execution_count": 4,
     "metadata": {},
     "output_type": "execute_result"
    }
   ],
   "source": [
    "# Examine the rows with total charges blank\n",
    "ch[ch['TotalCharges'] == ' ']"
   ]
  },
  {
   "cell_type": "markdown",
   "metadata": {},
   "source": [
    "tenure for all these 11 rows is 0. Churn is \"No\". One can interpret this as belonging to all new customers, if indeed these are the only rows with tenure = 0 too. This is verified to be true below. Hence we can set TotalCharges to 0, whenever tenure is 0."
   ]
  },
  {
   "cell_type": "code",
   "execution_count": 5,
   "metadata": {
    "ExecuteTime": {
     "end_time": "2018-02-18T23:32:18.934796Z",
     "start_time": "2018-02-18T23:32:18.893741Z"
    }
   },
   "outputs": [
    {
     "data": {
      "text/html": [
       "<div>\n",
       "<style scoped>\n",
       "    .dataframe tbody tr th:only-of-type {\n",
       "        vertical-align: middle;\n",
       "    }\n",
       "\n",
       "    .dataframe tbody tr th {\n",
       "        vertical-align: top;\n",
       "    }\n",
       "\n",
       "    .dataframe thead th {\n",
       "        text-align: right;\n",
       "    }\n",
       "</style>\n",
       "<table border=\"1\" class=\"dataframe\">\n",
       "  <thead>\n",
       "    <tr style=\"text-align: right;\">\n",
       "      <th></th>\n",
       "      <th>customerID</th>\n",
       "      <th>gender</th>\n",
       "      <th>SeniorCitizen</th>\n",
       "      <th>Partner</th>\n",
       "      <th>Dependents</th>\n",
       "      <th>tenure</th>\n",
       "      <th>PhoneService</th>\n",
       "      <th>MultipleLines</th>\n",
       "      <th>InternetService</th>\n",
       "      <th>OnlineSecurity</th>\n",
       "      <th>...</th>\n",
       "      <th>DeviceProtection</th>\n",
       "      <th>TechSupport</th>\n",
       "      <th>StreamingTV</th>\n",
       "      <th>StreamingMovies</th>\n",
       "      <th>Contract</th>\n",
       "      <th>PaperlessBilling</th>\n",
       "      <th>PaymentMethod</th>\n",
       "      <th>MonthlyCharges</th>\n",
       "      <th>TotalCharges</th>\n",
       "      <th>Churn</th>\n",
       "    </tr>\n",
       "  </thead>\n",
       "  <tbody>\n",
       "    <tr>\n",
       "      <th>488</th>\n",
       "      <td>4472-LVYGI</td>\n",
       "      <td>Female</td>\n",
       "      <td>0</td>\n",
       "      <td>Yes</td>\n",
       "      <td>Yes</td>\n",
       "      <td>0</td>\n",
       "      <td>No</td>\n",
       "      <td>No phone service</td>\n",
       "      <td>DSL</td>\n",
       "      <td>Yes</td>\n",
       "      <td>...</td>\n",
       "      <td>Yes</td>\n",
       "      <td>Yes</td>\n",
       "      <td>Yes</td>\n",
       "      <td>No</td>\n",
       "      <td>Two year</td>\n",
       "      <td>Yes</td>\n",
       "      <td>Bank transfer (automatic)</td>\n",
       "      <td>52.55</td>\n",
       "      <td></td>\n",
       "      <td>No</td>\n",
       "    </tr>\n",
       "    <tr>\n",
       "      <th>753</th>\n",
       "      <td>3115-CZMZD</td>\n",
       "      <td>Male</td>\n",
       "      <td>0</td>\n",
       "      <td>No</td>\n",
       "      <td>Yes</td>\n",
       "      <td>0</td>\n",
       "      <td>Yes</td>\n",
       "      <td>No</td>\n",
       "      <td>No</td>\n",
       "      <td>No internet service</td>\n",
       "      <td>...</td>\n",
       "      <td>No internet service</td>\n",
       "      <td>No internet service</td>\n",
       "      <td>No internet service</td>\n",
       "      <td>No internet service</td>\n",
       "      <td>Two year</td>\n",
       "      <td>No</td>\n",
       "      <td>Mailed check</td>\n",
       "      <td>20.25</td>\n",
       "      <td></td>\n",
       "      <td>No</td>\n",
       "    </tr>\n",
       "    <tr>\n",
       "      <th>936</th>\n",
       "      <td>5709-LVOEQ</td>\n",
       "      <td>Female</td>\n",
       "      <td>0</td>\n",
       "      <td>Yes</td>\n",
       "      <td>Yes</td>\n",
       "      <td>0</td>\n",
       "      <td>Yes</td>\n",
       "      <td>No</td>\n",
       "      <td>DSL</td>\n",
       "      <td>Yes</td>\n",
       "      <td>...</td>\n",
       "      <td>Yes</td>\n",
       "      <td>No</td>\n",
       "      <td>Yes</td>\n",
       "      <td>Yes</td>\n",
       "      <td>Two year</td>\n",
       "      <td>No</td>\n",
       "      <td>Mailed check</td>\n",
       "      <td>80.85</td>\n",
       "      <td></td>\n",
       "      <td>No</td>\n",
       "    </tr>\n",
       "    <tr>\n",
       "      <th>1082</th>\n",
       "      <td>4367-NUYAO</td>\n",
       "      <td>Male</td>\n",
       "      <td>0</td>\n",
       "      <td>Yes</td>\n",
       "      <td>Yes</td>\n",
       "      <td>0</td>\n",
       "      <td>Yes</td>\n",
       "      <td>Yes</td>\n",
       "      <td>No</td>\n",
       "      <td>No internet service</td>\n",
       "      <td>...</td>\n",
       "      <td>No internet service</td>\n",
       "      <td>No internet service</td>\n",
       "      <td>No internet service</td>\n",
       "      <td>No internet service</td>\n",
       "      <td>Two year</td>\n",
       "      <td>No</td>\n",
       "      <td>Mailed check</td>\n",
       "      <td>25.75</td>\n",
       "      <td></td>\n",
       "      <td>No</td>\n",
       "    </tr>\n",
       "    <tr>\n",
       "      <th>1340</th>\n",
       "      <td>1371-DWPAZ</td>\n",
       "      <td>Female</td>\n",
       "      <td>0</td>\n",
       "      <td>Yes</td>\n",
       "      <td>Yes</td>\n",
       "      <td>0</td>\n",
       "      <td>No</td>\n",
       "      <td>No phone service</td>\n",
       "      <td>DSL</td>\n",
       "      <td>Yes</td>\n",
       "      <td>...</td>\n",
       "      <td>Yes</td>\n",
       "      <td>Yes</td>\n",
       "      <td>Yes</td>\n",
       "      <td>No</td>\n",
       "      <td>Two year</td>\n",
       "      <td>No</td>\n",
       "      <td>Credit card (automatic)</td>\n",
       "      <td>56.05</td>\n",
       "      <td></td>\n",
       "      <td>No</td>\n",
       "    </tr>\n",
       "    <tr>\n",
       "      <th>3331</th>\n",
       "      <td>7644-OMVMY</td>\n",
       "      <td>Male</td>\n",
       "      <td>0</td>\n",
       "      <td>Yes</td>\n",
       "      <td>Yes</td>\n",
       "      <td>0</td>\n",
       "      <td>Yes</td>\n",
       "      <td>No</td>\n",
       "      <td>No</td>\n",
       "      <td>No internet service</td>\n",
       "      <td>...</td>\n",
       "      <td>No internet service</td>\n",
       "      <td>No internet service</td>\n",
       "      <td>No internet service</td>\n",
       "      <td>No internet service</td>\n",
       "      <td>Two year</td>\n",
       "      <td>No</td>\n",
       "      <td>Mailed check</td>\n",
       "      <td>19.85</td>\n",
       "      <td></td>\n",
       "      <td>No</td>\n",
       "    </tr>\n",
       "    <tr>\n",
       "      <th>3826</th>\n",
       "      <td>3213-VVOLG</td>\n",
       "      <td>Male</td>\n",
       "      <td>0</td>\n",
       "      <td>Yes</td>\n",
       "      <td>Yes</td>\n",
       "      <td>0</td>\n",
       "      <td>Yes</td>\n",
       "      <td>Yes</td>\n",
       "      <td>No</td>\n",
       "      <td>No internet service</td>\n",
       "      <td>...</td>\n",
       "      <td>No internet service</td>\n",
       "      <td>No internet service</td>\n",
       "      <td>No internet service</td>\n",
       "      <td>No internet service</td>\n",
       "      <td>Two year</td>\n",
       "      <td>No</td>\n",
       "      <td>Mailed check</td>\n",
       "      <td>25.35</td>\n",
       "      <td></td>\n",
       "      <td>No</td>\n",
       "    </tr>\n",
       "    <tr>\n",
       "      <th>4380</th>\n",
       "      <td>2520-SGTTA</td>\n",
       "      <td>Female</td>\n",
       "      <td>0</td>\n",
       "      <td>Yes</td>\n",
       "      <td>Yes</td>\n",
       "      <td>0</td>\n",
       "      <td>Yes</td>\n",
       "      <td>No</td>\n",
       "      <td>No</td>\n",
       "      <td>No internet service</td>\n",
       "      <td>...</td>\n",
       "      <td>No internet service</td>\n",
       "      <td>No internet service</td>\n",
       "      <td>No internet service</td>\n",
       "      <td>No internet service</td>\n",
       "      <td>Two year</td>\n",
       "      <td>No</td>\n",
       "      <td>Mailed check</td>\n",
       "      <td>20.00</td>\n",
       "      <td></td>\n",
       "      <td>No</td>\n",
       "    </tr>\n",
       "    <tr>\n",
       "      <th>5218</th>\n",
       "      <td>2923-ARZLG</td>\n",
       "      <td>Male</td>\n",
       "      <td>0</td>\n",
       "      <td>Yes</td>\n",
       "      <td>Yes</td>\n",
       "      <td>0</td>\n",
       "      <td>Yes</td>\n",
       "      <td>No</td>\n",
       "      <td>No</td>\n",
       "      <td>No internet service</td>\n",
       "      <td>...</td>\n",
       "      <td>No internet service</td>\n",
       "      <td>No internet service</td>\n",
       "      <td>No internet service</td>\n",
       "      <td>No internet service</td>\n",
       "      <td>One year</td>\n",
       "      <td>Yes</td>\n",
       "      <td>Mailed check</td>\n",
       "      <td>19.70</td>\n",
       "      <td></td>\n",
       "      <td>No</td>\n",
       "    </tr>\n",
       "    <tr>\n",
       "      <th>6670</th>\n",
       "      <td>4075-WKNIU</td>\n",
       "      <td>Female</td>\n",
       "      <td>0</td>\n",
       "      <td>Yes</td>\n",
       "      <td>Yes</td>\n",
       "      <td>0</td>\n",
       "      <td>Yes</td>\n",
       "      <td>Yes</td>\n",
       "      <td>DSL</td>\n",
       "      <td>No</td>\n",
       "      <td>...</td>\n",
       "      <td>Yes</td>\n",
       "      <td>Yes</td>\n",
       "      <td>Yes</td>\n",
       "      <td>No</td>\n",
       "      <td>Two year</td>\n",
       "      <td>No</td>\n",
       "      <td>Mailed check</td>\n",
       "      <td>73.35</td>\n",
       "      <td></td>\n",
       "      <td>No</td>\n",
       "    </tr>\n",
       "    <tr>\n",
       "      <th>6754</th>\n",
       "      <td>2775-SEFEE</td>\n",
       "      <td>Male</td>\n",
       "      <td>0</td>\n",
       "      <td>No</td>\n",
       "      <td>Yes</td>\n",
       "      <td>0</td>\n",
       "      <td>Yes</td>\n",
       "      <td>Yes</td>\n",
       "      <td>DSL</td>\n",
       "      <td>Yes</td>\n",
       "      <td>...</td>\n",
       "      <td>No</td>\n",
       "      <td>Yes</td>\n",
       "      <td>No</td>\n",
       "      <td>No</td>\n",
       "      <td>Two year</td>\n",
       "      <td>Yes</td>\n",
       "      <td>Bank transfer (automatic)</td>\n",
       "      <td>61.90</td>\n",
       "      <td></td>\n",
       "      <td>No</td>\n",
       "    </tr>\n",
       "  </tbody>\n",
       "</table>\n",
       "<p>11 rows × 21 columns</p>\n",
       "</div>"
      ],
      "text/plain": [
       "      customerID  gender  SeniorCitizen Partner Dependents  tenure  \\\n",
       "488   4472-LVYGI  Female              0     Yes        Yes       0   \n",
       "753   3115-CZMZD    Male              0      No        Yes       0   \n",
       "936   5709-LVOEQ  Female              0     Yes        Yes       0   \n",
       "1082  4367-NUYAO    Male              0     Yes        Yes       0   \n",
       "1340  1371-DWPAZ  Female              0     Yes        Yes       0   \n",
       "3331  7644-OMVMY    Male              0     Yes        Yes       0   \n",
       "3826  3213-VVOLG    Male              0     Yes        Yes       0   \n",
       "4380  2520-SGTTA  Female              0     Yes        Yes       0   \n",
       "5218  2923-ARZLG    Male              0     Yes        Yes       0   \n",
       "6670  4075-WKNIU  Female              0     Yes        Yes       0   \n",
       "6754  2775-SEFEE    Male              0      No        Yes       0   \n",
       "\n",
       "     PhoneService     MultipleLines InternetService       OnlineSecurity  \\\n",
       "488            No  No phone service             DSL                  Yes   \n",
       "753           Yes                No              No  No internet service   \n",
       "936           Yes                No             DSL                  Yes   \n",
       "1082          Yes               Yes              No  No internet service   \n",
       "1340           No  No phone service             DSL                  Yes   \n",
       "3331          Yes                No              No  No internet service   \n",
       "3826          Yes               Yes              No  No internet service   \n",
       "4380          Yes                No              No  No internet service   \n",
       "5218          Yes                No              No  No internet service   \n",
       "6670          Yes               Yes             DSL                   No   \n",
       "6754          Yes               Yes             DSL                  Yes   \n",
       "\n",
       "      ...      DeviceProtection          TechSupport          StreamingTV  \\\n",
       "488   ...                   Yes                  Yes                  Yes   \n",
       "753   ...   No internet service  No internet service  No internet service   \n",
       "936   ...                   Yes                   No                  Yes   \n",
       "1082  ...   No internet service  No internet service  No internet service   \n",
       "1340  ...                   Yes                  Yes                  Yes   \n",
       "3331  ...   No internet service  No internet service  No internet service   \n",
       "3826  ...   No internet service  No internet service  No internet service   \n",
       "4380  ...   No internet service  No internet service  No internet service   \n",
       "5218  ...   No internet service  No internet service  No internet service   \n",
       "6670  ...                   Yes                  Yes                  Yes   \n",
       "6754  ...                    No                  Yes                   No   \n",
       "\n",
       "          StreamingMovies  Contract PaperlessBilling  \\\n",
       "488                    No  Two year              Yes   \n",
       "753   No internet service  Two year               No   \n",
       "936                   Yes  Two year               No   \n",
       "1082  No internet service  Two year               No   \n",
       "1340                   No  Two year               No   \n",
       "3331  No internet service  Two year               No   \n",
       "3826  No internet service  Two year               No   \n",
       "4380  No internet service  Two year               No   \n",
       "5218  No internet service  One year              Yes   \n",
       "6670                   No  Two year               No   \n",
       "6754                   No  Two year              Yes   \n",
       "\n",
       "                  PaymentMethod MonthlyCharges  TotalCharges Churn  \n",
       "488   Bank transfer (automatic)          52.55                  No  \n",
       "753                Mailed check          20.25                  No  \n",
       "936                Mailed check          80.85                  No  \n",
       "1082               Mailed check          25.75                  No  \n",
       "1340    Credit card (automatic)          56.05                  No  \n",
       "3331               Mailed check          19.85                  No  \n",
       "3826               Mailed check          25.35                  No  \n",
       "4380               Mailed check          20.00                  No  \n",
       "5218               Mailed check          19.70                  No  \n",
       "6670               Mailed check          73.35                  No  \n",
       "6754  Bank transfer (automatic)          61.90                  No  \n",
       "\n",
       "[11 rows x 21 columns]"
      ]
     },
     "execution_count": 5,
     "metadata": {},
     "output_type": "execute_result"
    }
   ],
   "source": [
    "ch[ch['tenure'] == 0]"
   ]
  },
  {
   "cell_type": "code",
   "execution_count": 6,
   "metadata": {
    "ExecuteTime": {
     "end_time": "2018-02-18T23:32:18.950896Z",
     "start_time": "2018-02-18T23:32:18.938801Z"
    }
   },
   "outputs": [],
   "source": [
    "ch.TotalCharges = ch.TotalCharges.apply(lambda x: 0  if x == ' ' else float(x))"
   ]
  },
  {
   "cell_type": "code",
   "execution_count": 7,
   "metadata": {
    "ExecuteTime": {
     "end_time": "2018-02-18T23:32:18.971441Z",
     "start_time": "2018-02-18T23:32:18.952893Z"
    }
   },
   "outputs": [],
   "source": [
    "# Change No internet service to NoInt for brevity\n",
    "ch[['OnlineSecurity','OnlineBackup','DeviceProtection','TechSupport','StreamingTV','StreamingMovies']] = ch[['OnlineSecurity','OnlineBackup','DeviceProtection','TechSupport','StreamingTV','StreamingMovies']].astype(str).replace({'No internet service': 'NoInt'})\n",
    "ch['MultipleLines'] = ch['MultipleLines'].replace({'No phone service':'NoPh'})"
   ]
  },
  {
   "cell_type": "markdown",
   "metadata": {},
   "source": [
    "All other variables are fine. Converting object data types to categories and doing one hot encoding are explained along the way. \n",
    "### **3) Exploratory Data Analysis, Data Story Telling**\n",
    "\n",
    "Now that we have clean data, let us quantify what impact this project could make, if all the customers who go away can be convinced to staying. We will also group tenure into 4 categories for better comprehension."
   ]
  },
  {
   "cell_type": "code",
   "execution_count": 8,
   "metadata": {
    "ExecuteTime": {
     "end_time": "2018-02-18T23:32:19.226822Z",
     "start_time": "2018-02-18T23:32:18.971441Z"
    }
   },
   "outputs": [
    {
     "name": "stdout",
     "output_type": "stream",
     "text": [
      "Total Revenue Lost/Month due to Churn: $ 139130\n"
     ]
    },
    {
     "data": {
      "image/png": "[encoded data removed]",
      "text/plain": [
       "<matplotlib.figure.Figure at 0x29b936c9128>"
      ]
     },
     "metadata": {},
     "output_type": "display_data"
    }
   ],
   "source": [
    "# Split the customers into 4 groups of tenures and see their Churn Rate\n",
    "plt.figure(figsize=(12,4))\n",
    "plt.subplot(1,2,1)\n",
    "ch['Tenure Group'] = 'Between 2 to 5 Years'\n",
    "ch.loc[ch['tenure'] >59,'Tenure Group'] = 'More than 5 Years' \n",
    "ch.loc[ch['tenure'] <= 24,'Tenure Group'] = '1 Year -> 2 Year'\n",
    "ch.loc[ch['tenure'] <= 12,'Tenure Group'] = 'Less Than 1 Year'\n",
    "ch['Ch10'] = ch['Churn'].replace({'Yes':1,'No':0})\n",
    "ch_rate = ch.groupby('Tenure Group')['Ch10'].mean().sort_values(ascending=False)\n",
    "(round(100*ch_rate,2)).plot.bar(color='pink')\n",
    "\n",
    "# Evaluate the Revenue Loss per month\n",
    "ch['revloss'] = ch['MonthlyCharges']*ch['Ch10']\n",
    "plt.ylabel('Churn Percentage')\n",
    "plt.title('Percentage Churn Vs Tenures')\n",
    "plt.subplot(1,2,2)\n",
    "revenue_group = ch.groupby('Tenure Group')['revloss'].sum().sort_values(ascending=False)\n",
    "(round(100*revenue_group/revenue_group.sum(),2)).plot.bar(color='g')\n",
    "plt.ylabel('Loss Percentage')\n",
    "plt.title('Percentage Revenue loss/Month Vs Tenure group')\n",
    "print('Total Revenue Lost/Month due to Churn: $',int(revenue_group.sum()))"
   ]
  },
  {
   "cell_type": "markdown",
   "metadata": {},
   "source": [
    "+ The business is losing approx $140k every month as per the current data!\n",
    "+ Customers less than 1 year have the highest churn and cause highest loss.\n",
    "+ The second and third place are interchanged in the two plots. \n",
    "\n",
    "A business would be interested in retaining the category that causes higher loss with immediate priority, as that will be more return on investment. "
   ]
  },
  {
   "cell_type": "code",
   "execution_count": 9,
   "metadata": {
    "ExecuteTime": {
     "end_time": "2018-02-18T23:32:19.265924Z",
     "start_time": "2018-02-18T23:32:19.228826Z"
    }
   },
   "outputs": [
    {
     "data": {
      "text/html": [
       "<div>\n",
       "<style scoped>\n",
       "    .dataframe tbody tr th:only-of-type {\n",
       "        vertical-align: middle;\n",
       "    }\n",
       "\n",
       "    .dataframe tbody tr th {\n",
       "        vertical-align: top;\n",
       "    }\n",
       "\n",
       "    .dataframe thead th {\n",
       "        text-align: right;\n",
       "    }\n",
       "</style>\n",
       "<table border=\"1\" class=\"dataframe\">\n",
       "  <thead>\n",
       "    <tr style=\"text-align: right;\">\n",
       "      <th></th>\n",
       "      <th>Churn</th>\n",
       "      <th>No</th>\n",
       "      <th>Yes</th>\n",
       "    </tr>\n",
       "  </thead>\n",
       "  <tbody>\n",
       "    <tr>\n",
       "      <th rowspan=\"8\" valign=\"top\">tenure</th>\n",
       "      <th>count</th>\n",
       "      <td>5174.00</td>\n",
       "      <td>1869.00</td>\n",
       "    </tr>\n",
       "    <tr>\n",
       "      <th>mean</th>\n",
       "      <td>37.57</td>\n",
       "      <td>17.98</td>\n",
       "    </tr>\n",
       "    <tr>\n",
       "      <th>std</th>\n",
       "      <td>24.11</td>\n",
       "      <td>19.53</td>\n",
       "    </tr>\n",
       "    <tr>\n",
       "      <th>min</th>\n",
       "      <td>0.00</td>\n",
       "      <td>1.00</td>\n",
       "    </tr>\n",
       "    <tr>\n",
       "      <th>25%</th>\n",
       "      <td>15.00</td>\n",
       "      <td>2.00</td>\n",
       "    </tr>\n",
       "    <tr>\n",
       "      <th>50%</th>\n",
       "      <td>38.00</td>\n",
       "      <td>10.00</td>\n",
       "    </tr>\n",
       "    <tr>\n",
       "      <th>75%</th>\n",
       "      <td>61.00</td>\n",
       "      <td>29.00</td>\n",
       "    </tr>\n",
       "    <tr>\n",
       "      <th>max</th>\n",
       "      <td>72.00</td>\n",
       "      <td>72.00</td>\n",
       "    </tr>\n",
       "    <tr>\n",
       "      <th rowspan=\"8\" valign=\"top\">MonthlyCharges</th>\n",
       "      <th>count</th>\n",
       "      <td>5174.00</td>\n",
       "      <td>1869.00</td>\n",
       "    </tr>\n",
       "    <tr>\n",
       "      <th>mean</th>\n",
       "      <td>61.27</td>\n",
       "      <td>74.44</td>\n",
       "    </tr>\n",
       "    <tr>\n",
       "      <th>std</th>\n",
       "      <td>31.09</td>\n",
       "      <td>24.67</td>\n",
       "    </tr>\n",
       "    <tr>\n",
       "      <th>min</th>\n",
       "      <td>18.25</td>\n",
       "      <td>18.85</td>\n",
       "    </tr>\n",
       "    <tr>\n",
       "      <th>25%</th>\n",
       "      <td>25.10</td>\n",
       "      <td>56.15</td>\n",
       "    </tr>\n",
       "    <tr>\n",
       "      <th>50%</th>\n",
       "      <td>64.43</td>\n",
       "      <td>79.65</td>\n",
       "    </tr>\n",
       "    <tr>\n",
       "      <th>75%</th>\n",
       "      <td>88.40</td>\n",
       "      <td>94.20</td>\n",
       "    </tr>\n",
       "    <tr>\n",
       "      <th>max</th>\n",
       "      <td>118.75</td>\n",
       "      <td>118.35</td>\n",
       "    </tr>\n",
       "    <tr>\n",
       "      <th rowspan=\"8\" valign=\"top\">TotalCharges</th>\n",
       "      <th>count</th>\n",
       "      <td>5174.00</td>\n",
       "      <td>1869.00</td>\n",
       "    </tr>\n",
       "    <tr>\n",
       "      <th>mean</th>\n",
       "      <td>2549.91</td>\n",
       "      <td>1531.80</td>\n",
       "    </tr>\n",
       "    <tr>\n",
       "      <th>std</th>\n",
       "      <td>2329.95</td>\n",
       "      <td>1890.82</td>\n",
       "    </tr>\n",
       "    <tr>\n",
       "      <th>min</th>\n",
       "      <td>0.00</td>\n",
       "      <td>18.85</td>\n",
       "    </tr>\n",
       "    <tr>\n",
       "      <th>25%</th>\n",
       "      <td>572.90</td>\n",
       "      <td>134.50</td>\n",
       "    </tr>\n",
       "    <tr>\n",
       "      <th>50%</th>\n",
       "      <td>1679.52</td>\n",
       "      <td>703.55</td>\n",
       "    </tr>\n",
       "    <tr>\n",
       "      <th>75%</th>\n",
       "      <td>4262.85</td>\n",
       "      <td>2331.30</td>\n",
       "    </tr>\n",
       "    <tr>\n",
       "      <th>max</th>\n",
       "      <td>8672.45</td>\n",
       "      <td>8684.80</td>\n",
       "    </tr>\n",
       "  </tbody>\n",
       "</table>\n",
       "</div>"
      ],
      "text/plain": [
       "Churn                      No      Yes\n",
       "tenure         count  5174.00  1869.00\n",
       "               mean     37.57    17.98\n",
       "               std      24.11    19.53\n",
       "               min       0.00     1.00\n",
       "               25%      15.00     2.00\n",
       "               50%      38.00    10.00\n",
       "               75%      61.00    29.00\n",
       "               max      72.00    72.00\n",
       "MonthlyCharges count  5174.00  1869.00\n",
       "               mean     61.27    74.44\n",
       "               std      31.09    24.67\n",
       "               min      18.25    18.85\n",
       "               25%      25.10    56.15\n",
       "               50%      64.43    79.65\n",
       "               75%      88.40    94.20\n",
       "               max     118.75   118.35\n",
       "TotalCharges   count  5174.00  1869.00\n",
       "               mean   2549.91  1531.80\n",
       "               std    2329.95  1890.82\n",
       "               min       0.00    18.85\n",
       "               25%     572.90   134.50\n",
       "               50%    1679.52   703.55\n",
       "               75%    4262.85  2331.30\n",
       "               max    8672.45  8684.80"
      ]
     },
     "execution_count": 9,
     "metadata": {},
     "output_type": "execute_result"
    }
   ],
   "source": [
    "# Check the stats for numeic types within Churn and No Churn group\n",
    "numvar = ['tenure','MonthlyCharges','TotalCharges']\n",
    "round(ch.groupby('Churn')[numvar].describe().T,2)"
   ]
  },
  {
   "cell_type": "markdown",
   "metadata": {},
   "source": [
    "+ Mean tenure for Churn group is lower than the other group, which is as expected.\n",
    "+ Mean Monthly charges are higher for Churn group, this has to be analyzed further.\n",
    "+ Mean Total Charges is higher for loyal group than the churn group."
   ]
  },
  {
   "cell_type": "code",
   "execution_count": 10,
   "metadata": {
    "ExecuteTime": {
     "end_time": "2018-02-18T23:32:19.645751Z",
     "start_time": "2018-02-18T23:32:19.266929Z"
    }
   },
   "outputs": [
    {
     "name": "stdout",
     "output_type": "stream",
     "text": [
      "Mean Tenure of Two groups\n",
      " Churn\n",
      "No     37.57\n",
      "Yes    17.98\n",
      "Name: tenure, dtype: float64\n"
     ]
    },
    {
     "data": {
      "image/png": "[encoded data removed]",
      "text/plain": [
       "<matplotlib.figure.Figure at 0x29b914feb38>"
      ]
     },
     "metadata": {},
     "output_type": "display_data"
    },
    {
     "data": {
      "text/plain": [
       "<matplotlib.figure.Figure at 0x29b93916198>"
      ]
     },
     "metadata": {},
     "output_type": "display_data"
    },
    {
     "data": {
      "image/png": "[encoded data removed]",
      "text/plain": [
       "<matplotlib.figure.Figure at 0x29b9392be80>"
      ]
     },
     "metadata": {},
     "output_type": "display_data"
    }
   ],
   "source": [
    "# Plot the histogram of the tenure and see if it tells any story!\n",
    "fig, ax = plt.subplots(figsize=(14,5))\n",
    "plt.subplot(1,2,1)\n",
    "sns.distplot(ch.loc[ch.Churn=='No','tenure'],hist=True,color='g',kde=False)\n",
    "plt.title('Histogram of tenure values for loyal customers')\n",
    "plt.xlabel('Tenure in Months')\n",
    "plt.ylabel('People count')\n",
    "plt.subplot(1,2,2)\n",
    "sns.distplot(ch.loc[ch.Churn=='Yes','tenure'],hist=True,kde=False)\n",
    "plt.title('Histogram of tenure values for customers who left')\n",
    "plt.xlabel('Tenure in Months')\n",
    "plt.ylabel('People count')\n",
    "print(\"Mean Tenure of Two groups\\n\",round(ch.groupby('Churn').tenure.mean(),2))\n",
    "plt.figure()\n",
    "ch[['Churn','tenure']].boxplot(by='Churn')"
   ]
  },
  {
   "cell_type": "markdown",
   "metadata": {},
   "source": [
    "**Remarks: ** There is a clear distinction in the shape of the two histograms above. The percentiles are visible in the box plot. \n",
    "+ Customers who cut the contract are highly concentrated towards lesser tenure (<= 6 months). The number of customers in each higher bin progressively reduces.!\n",
    "+ The first peak in the first plot tells that there are many more new customers than those in each of the other bins except the last one.\n",
    "+ First bin to second bin, there is huge reduction, as some have Churned. There is slight reduction until bin centered at 40.\n",
    "+ Customers who have crossed 20 months are likely to remain loyal and hence the counts are almost same until bin centered 60.\n",
    "+ The last peak is a fact about the current dataset. It seems like there are many old customers (count > 850) who have stayed with the company's connection for more than 66 months. Suddenly there was a drop in number of customers and that is why there is less count in the bin previous to that. This clearly means, **Many customers switched to other companies about 5.5 years ago.** There could be a number of reasons for this:\n",
    "   - This business entity might not have been able to upgrade its services to state of the art technology. \n",
    "   - There was monopoly but suddenly a competitor company popped up and attracted its customers with inauguration offers.\n",
    "   - The progressive decrease from bin 65 to bin 60 to bin 55 and so on support the above points.\n",
    "   - We can not do further analysis on this currently, as there is no data for customers who left 5.5 years ago. We only know the number of such customers."
   ]
  },
  {
   "cell_type": "code",
   "execution_count": 11,
   "metadata": {
    "ExecuteTime": {
     "end_time": "2018-02-18T23:32:19.652768Z",
     "start_time": "2018-02-18T23:32:19.647756Z"
    }
   },
   "outputs": [
    {
     "name": "stdout",
     "output_type": "stream",
     "text": [
      "Correlation between Monthly*tenure Vs. Total Charges: (0.9995605537972279, 0.0)\n"
     ]
    }
   ],
   "source": [
    "# Find the correlation between tenure*Monthly Vs TotalCharges\n",
    "print(\"Correlation between Monthly*tenure Vs. Total Charges:\",pearsonr(ch.tenure*ch.MonthlyCharges,ch.TotalCharges))"
   ]
  },
  {
   "cell_type": "code",
   "execution_count": 12,
   "metadata": {
    "ExecuteTime": {
     "end_time": "2018-02-18T23:32:19.695884Z",
     "start_time": "2018-02-18T23:32:19.654774Z"
    }
   },
   "outputs": [
    {
     "data": {
      "text/html": [
       "<table class=\"simpletable\">\n",
       "<caption>OLS Regression Results</caption>\n",
       "<tr>\n",
       "  <th>Dep. Variable:</th>      <td>TotalCharges</td>   <th>  R-squared:         </th> <td>   0.999</td> \n",
       "</tr>\n",
       "<tr>\n",
       "  <th>Model:</th>                   <td>OLS</td>       <th>  Adj. R-squared:    </th> <td>   0.999</td> \n",
       "</tr>\n",
       "<tr>\n",
       "  <th>Method:</th>             <td>Least Squares</td>  <th>  F-statistic:       </th> <td>8.006e+06</td>\n",
       "</tr>\n",
       "<tr>\n",
       "  <th>Date:</th>             <td>Mon, 12 Mar 2018</td> <th>  Prob (F-statistic):</th>  <td>  0.00</td>  \n",
       "</tr>\n",
       "<tr>\n",
       "  <th>Time:</th>                 <td>15:43:25</td>     <th>  Log-Likelihood:    </th> <td> -39627.</td> \n",
       "</tr>\n",
       "<tr>\n",
       "  <th>No. Observations:</th>      <td>  7043</td>      <th>  AIC:               </th> <td>7.926e+04</td>\n",
       "</tr>\n",
       "<tr>\n",
       "  <th>Df Residuals:</th>          <td>  7041</td>      <th>  BIC:               </th> <td>7.927e+04</td>\n",
       "</tr>\n",
       "<tr>\n",
       "  <th>Df Model:</th>              <td>     1</td>      <th>                     </th>     <td> </td>    \n",
       "</tr>\n",
       "<tr>\n",
       "  <th>Covariance Type:</th>      <td>nonrobust</td>    <th>                     </th>     <td> </td>    \n",
       "</tr>\n",
       "</table>\n",
       "<table class=\"simpletable\">\n",
       "<tr>\n",
       "      <td></td>         <th>coef</th>     <th>std err</th>      <th>t</th>      <th>P>|t|</th>  <th>[0.025</th>    <th>0.975]</th>  \n",
       "</tr>\n",
       "<tr>\n",
       "  <th>Intercept</th> <td>   -0.9229</td> <td>    1.136</td> <td>   -0.812</td> <td> 0.417</td> <td>   -3.150</td> <td>    1.304</td>\n",
       "</tr>\n",
       "<tr>\n",
       "  <th>Temp</th>      <td>    1.0005</td> <td>    0.000</td> <td> 2829.477</td> <td> 0.000</td> <td>    1.000</td> <td>    1.001</td>\n",
       "</tr>\n",
       "</table>\n",
       "<table class=\"simpletable\">\n",
       "<tr>\n",
       "  <th>Omnibus:</th>       <td>538.795</td> <th>  Durbin-Watson:     </th> <td>   2.055</td>\n",
       "</tr>\n",
       "<tr>\n",
       "  <th>Prob(Omnibus):</th> <td> 0.000</td>  <th>  Jarque-Bera (JB):  </th> <td>3067.278</td>\n",
       "</tr>\n",
       "<tr>\n",
       "  <th>Skew:</th>          <td>-0.034</td>  <th>  Prob(JB):          </th> <td>    0.00</td>\n",
       "</tr>\n",
       "<tr>\n",
       "  <th>Kurtosis:</th>      <td> 6.232</td>  <th>  Cond. No.          </th> <td>4.56e+03</td>\n",
       "</tr>\n",
       "</table>"
      ],
      "text/plain": [
       "<class 'statsmodels.iolib.summary.Summary'>\n",
       "\"\"\"\n",
       "                            OLS Regression Results                            \n",
       "==============================================================================\n",
       "Dep. Variable:           TotalCharges   R-squared:                       0.999\n",
       "Model:                            OLS   Adj. R-squared:                  0.999\n",
       "Method:                 Least Squares   F-statistic:                 8.006e+06\n",
       "Date:                Mon, 12 Mar 2018   Prob (F-statistic):               0.00\n",
       "Time:                        15:43:25   Log-Likelihood:                -39627.\n",
       "No. Observations:                7043   AIC:                         7.926e+04\n",
       "Df Residuals:                    7041   BIC:                         7.927e+04\n",
       "Df Model:                           1                                         \n",
       "Covariance Type:            nonrobust                                         \n",
       "==============================================================================\n",
       "                 coef    std err          t      P>|t|      [0.025      0.975]\n",
       "------------------------------------------------------------------------------\n",
       "Intercept     -0.9229      1.136     -0.812      0.417      -3.150       1.304\n",
       "Temp           1.0005      0.000   2829.477      0.000       1.000       1.001\n",
       "==============================================================================\n",
       "Omnibus:                      538.795   Durbin-Watson:                   2.055\n",
       "Prob(Omnibus):                  0.000   Jarque-Bera (JB):             3067.278\n",
       "Skew:                          -0.034   Prob(JB):                         0.00\n",
       "Kurtosis:                       6.232   Cond. No.                     4.56e+03\n",
       "==============================================================================\n",
       "\n",
       "Warnings:\n",
       "[1] Standard Errors assume that the covariance matrix of the errors is correctly specified.\n",
       "[2] The condition number is large, 4.56e+03. This might indicate that there are\n",
       "strong multicollinearity or other numerical problems.\n",
       "\"\"\""
      ]
     },
     "execution_count": 12,
     "metadata": {},
     "output_type": "execute_result"
    }
   ],
   "source": [
    "ch['Temp'] = ch.tenure*ch.MonthlyCharges\n",
    "lm = ols('TotalCharges ~ Temp',ch).fit()\n",
    "lm.summary()"
   ]
  },
  {
   "cell_type": "markdown",
   "metadata": {},
   "source": [
    "TotalCharges should be removed, as it is just monthly charges accumulated till date, as shown by the regression model above."
   ]
  },
  {
   "cell_type": "code",
   "execution_count": 13,
   "metadata": {
    "ExecuteTime": {
     "end_time": "2018-02-18T23:32:19.705909Z",
     "start_time": "2018-02-18T23:32:19.697889Z"
    }
   },
   "outputs": [],
   "source": [
    "ch.drop(['Temp'],axis=1,inplace=True)"
   ]
  },
  {
   "cell_type": "code",
   "execution_count": 14,
   "metadata": {
    "ExecuteTime": {
     "end_time": "2018-02-18T23:32:20.142071Z",
     "start_time": "2018-02-18T23:32:19.706913Z"
    }
   },
   "outputs": [
    {
     "name": "stdout",
     "output_type": "stream",
     "text": [
      "Mean Churn Across Contract\n",
      "Month-to-month    0.427097\n",
      "One year          0.112695\n",
      "Two year          0.028319\n",
      "Name: Ch10, dtype: float64\n",
      "Mean Churn Across PhoneService\n",
      "No     0.249267\n",
      "Yes    0.267096\n",
      "Name: Ch10, dtype: float64\n",
      "Mean Churn Across InternetService\n",
      "DSL            0.189591\n",
      "Fiber optic    0.418928\n",
      "No             0.074050\n",
      "Name: Ch10, dtype: float64\n"
     ]
    },
    {
     "data": {
      "image/png": "[encoded data removed]",
      "text/plain": [
       "<matplotlib.figure.Figure at 0x29b93b59278>"
      ]
     },
     "metadata": {},
     "output_type": "display_data"
    },
    {
     "data": {
      "image/png": "[encoded data removed]",
      "text/plain": [
       "<matplotlib.figure.Figure at 0x29b939e1940>"
      ]
     },
     "metadata": {},
     "output_type": "display_data"
    },
    {
     "data": {
      "image/png": "[encoded data removed]",
      "text/plain": [
       "<matplotlib.figure.Figure at 0x29b939e1b70>"
      ]
     },
     "metadata": {},
     "output_type": "display_data"
    }
   ],
   "source": [
    "_ = pd.crosstab(ch.Contract,ch.Churn).plot.bar()\n",
    "_ = plt.title('Churn Count for Contract')\n",
    "_ = plt.ylabel('Churn/No Churn Counts')\n",
    "print('Mean Churn Across',ch.groupby('Contract')['Ch10'].mean())\n",
    "_ = pd.crosstab(ch.PhoneService,ch.Churn).plot.bar(color='cb')\n",
    "_ = plt.title('Churn Count for Phone Service')\n",
    "_ = plt.ylabel('Churn/No Churn Counts')\n",
    "_ = pd.crosstab(ch.InternetService,ch.Churn).plot.bar(color='mr')\n",
    "_ = plt.title('Churn Count for Internet Service')\n",
    "_ = plt.ylabel('Churn/No Churn Counts')\n",
    "print('Mean Churn Across',ch.groupby('PhoneService')['Ch10'].mean())\n",
    "print('Mean Churn Across',ch.groupby('InternetService')['Ch10'].mean())"
   ]
  },
  {
   "cell_type": "markdown",
   "metadata": {},
   "source": [
    "**Remark**: The Mean Rates printed above the plots only give some idea on the churn rate and that can give skewed perception on importance of set of people in a category.\n",
    "\n",
    "The plots serve two purposes. They give counts and the relative counts of Churn Vs No churn. Across the categories, they tell us, which category has more members. This is helpful in deciding a few things. Let me explain with an example of Contract.\n",
    "\n",
    "The month to month contract has high number of people in general and higher proportion of people Churning. The Contract with 2 years has the least members across categories and also within the category, relatively smaller proportion of the people Churn.\n",
    "\n",
    "Similar Statements can be made about the other two plots. However, they do not give us an integrated picture of which combinations lead to certain customers' dissatisfaction. Hence we need a model to derive the relationship across them."
   ]
  },
  {
   "cell_type": "code",
   "execution_count": 15,
   "metadata": {
    "ExecuteTime": {
     "end_time": "2018-02-18T23:32:20.155105Z",
     "start_time": "2018-02-18T23:32:20.144075Z"
    }
   },
   "outputs": [
    {
     "name": "stdout",
     "output_type": "stream",
     "text": [
      "Multiple Lines category counts:\n",
      " No      3390\n",
      "Yes     2971\n",
      "NoPh     682\n",
      "Name: MultipleLines, dtype: int64\n",
      "Phone Lines category counts:\n",
      " Yes    6361\n",
      "No      682\n",
      "Name: PhoneService, dtype: int64\n"
     ]
    }
   ],
   "source": [
    "# Phone service is redundant.\n",
    "print(\"Multiple Lines category counts:\\n\",ch.MultipleLines.value_counts())\n",
    "print(\"Phone Lines category counts:\\n\",ch.PhoneService.value_counts())"
   ]
  },
  {
   "cell_type": "markdown",
   "metadata": {},
   "source": [
    "**Remark:**From the above, Phone service is a subset of multiple lines. It does not contain any new information. Hence we choose to omit it. \n",
    "\n",
    "We can not rule out the possibility that the digits in customerID has some kind of information encoded. It can be taken up as future work. At this time, for ease of analysis, let us drop it."
   ]
  },
  {
   "cell_type": "markdown",
   "metadata": {},
   "source": [
    "#### **Preparing the data for Predictive Analysis, by one-hot encoding**\n",
    "Creating one hot encoding to suit Linear/Logistic regression is important for the correct interpretation of the features by the model. We do that below, and then drop original columns and the last column of each variable, as it is correlated to the others."
   ]
  },
  {
   "cell_type": "code",
   "execution_count": 20,
   "metadata": {},
   "outputs": [],
   "source": [
    "X = ch.drop(['customerID','Churn','Ch10','TotalCharges','PhoneService','Tenure Group','revloss'],axis=1,inplace=False).copy()"
   ]
  },
  {
   "cell_type": "code",
   "execution_count": 21,
   "metadata": {},
   "outputs": [],
   "source": [
    "cat_vars=['gender','Partner','Dependents','PaperlessBilling','MultipleLines','InternetService','OnlineSecurity','OnlineBackup','DeviceProtection','TechSupport','StreamingTV','StreamingMovies','Contract','PaymentMethod']\n",
    "for var in cat_vars:\n",
    "    cat_list='var'+'_'+var\n",
    "    cat_list = pd.get_dummies(ch[var], prefix=var)\n",
    "    X1=X.join(cat_list)\n",
    "    X=X1\n",
    "X.drop(cat_vars,axis=1,inplace=True) # Originals need to be dropped"
   ]
  },
  {
   "cell_type": "code",
   "execution_count": 22,
   "metadata": {},
   "outputs": [
    {
     "data": {
      "text/plain": [
       "Index(['SeniorCitizen', 'tenure', 'MonthlyCharges', 'gender_Female',\n",
       "       'gender_Male', 'Partner_No', 'Partner_Yes', 'Dependents_No',\n",
       "       'Dependents_Yes', 'PaperlessBilling_No', 'PaperlessBilling_Yes',\n",
       "       'MultipleLines_No', 'MultipleLines_NoPh', 'MultipleLines_Yes',\n",
       "       'InternetService_DSL', 'InternetService_Fiber optic',\n",
       "       'InternetService_No', 'OnlineSecurity_No', 'OnlineSecurity_NoInt',\n",
       "       'OnlineSecurity_Yes', 'OnlineBackup_No', 'OnlineBackup_NoInt',\n",
       "       'OnlineBackup_Yes', 'DeviceProtection_No', 'DeviceProtection_NoInt',\n",
       "       'DeviceProtection_Yes', 'TechSupport_No', 'TechSupport_NoInt',\n",
       "       'TechSupport_Yes', 'StreamingTV_No', 'StreamingTV_NoInt',\n",
       "       'StreamingTV_Yes', 'StreamingMovies_No', 'StreamingMovies_NoInt',\n",
       "       'StreamingMovies_Yes', 'Contract_Month-to-month', 'Contract_One year',\n",
       "       'Contract_Two year', 'PaymentMethod_Bank transfer (automatic)',\n",
       "       'PaymentMethod_Credit card (automatic)',\n",
       "       'PaymentMethod_Electronic check', 'PaymentMethod_Mailed check'],\n",
       "      dtype='object')"
      ]
     },
     "execution_count": 22,
     "metadata": {},
     "output_type": "execute_result"
    }
   ],
   "source": [
    "X.columns"
   ]
  },
  {
   "cell_type": "code",
   "execution_count": 23,
   "metadata": {
    "ExecuteTime": {
     "end_time": "2018-02-18T23:32:25.097480Z",
     "start_time": "2018-02-18T23:32:25.017679Z"
    }
   },
   "outputs": [],
   "source": [
    "X.drop(['MultipleLines_NoPh','InternetService_No','OnlineSecurity_No','OnlineBackup_No',\n",
    "        'DeviceProtection_No','TechSupport_No','StreamingTV_No','StreamingMovies_No',        \n",
    "        'gender_Male','Partner_No','Dependents_No','PaperlessBilling_No',\n",
    "        'Contract_Month-to-month','PaymentMethod_Credit card (automatic)'],axis=1,inplace=True)\n",
    "X.drop(['StreamingMovies_NoInt','StreamingTV_NoInt','TechSupport_NoInt','DeviceProtection_NoInt','OnlineBackup_NoInt','OnlineSecurity_NoInt'],axis=1,inplace=True)\n",
    "XLin = X[[ 'MultipleLines_No', 'MultipleLines_Yes','InternetService_Fiber optic', 'InternetService_DSL',\n",
    "         'OnlineSecurity_Yes','OnlineBackup_Yes', 'DeviceProtection_Yes', 'TechSupport_Yes','StreamingTV_Yes', 'StreamingMovies_Yes']]"
   ]
  },
  {
   "cell_type": "markdown",
   "metadata": {},
   "source": [
    "In the Real Scenario, Data Scientist can ask questions to the business entity on how the customers are charged. Here we need to find out the relation between services and monthly Charges. We could try fitting a Linear Regression Curve. The customers are assumed to be independent. There are enough number of samples. We can plot the residuals later and check for normality. If it is found to be normal, with number of outliers(points beyond 2 stds) < 5% and if it explains 99% of the variance (R2 measure), we will accept it.\n",
    "\n",
    "Our objective at this point is not prediction. It is to evaluate the coefficients of Linear regression, which tell us how much each service costs. This can later be used to quantify the gain in monthly revenue if some actions are taken which would result in retaining a customer.\n",
    "\n",
    "Since it is not a predictive Linear Regression, but an inference one, we need not split it into Test and train set. There is no need to standardize any variable too.\n",
    "When the first model was run, intercept came out to be < 10 cents. Hence ran this with intercept False"
   ]
  },
  {
   "cell_type": "code",
   "execution_count": 24,
   "metadata": {
    "ExecuteTime": {
     "end_time": "2018-02-18T23:32:25.278368Z",
     "start_time": "2018-02-18T23:32:25.097480Z"
    }
   },
   "outputs": [
    {
     "name": "stdout",
     "output_type": "stream",
     "text": [
      "R^2 of the fit: 0.999\n",
      "MSE of the model 1.05\n"
     ]
    },
    {
     "data": {
      "text/html": [
       "<div>\n",
       "<style scoped>\n",
       "    .dataframe tbody tr th:only-of-type {\n",
       "        vertical-align: middle;\n",
       "    }\n",
       "\n",
       "    .dataframe tbody tr th {\n",
       "        vertical-align: top;\n",
       "    }\n",
       "\n",
       "    .dataframe thead th {\n",
       "        text-align: right;\n",
       "    }\n",
       "</style>\n",
       "<table border=\"1\" class=\"dataframe\">\n",
       "  <thead>\n",
       "    <tr style=\"text-align: right;\">\n",
       "      <th></th>\n",
       "      <th>$ Per month</th>\n",
       "    </tr>\n",
       "  </thead>\n",
       "  <tbody>\n",
       "    <tr>\n",
       "      <th>InternetService_Fiber optic</th>\n",
       "      <td>49.982</td>\n",
       "    </tr>\n",
       "    <tr>\n",
       "      <th>InternetService_DSL</th>\n",
       "      <td>25.004</td>\n",
       "    </tr>\n",
       "    <tr>\n",
       "      <th>MultipleLines_Yes</th>\n",
       "      <td>24.995</td>\n",
       "    </tr>\n",
       "    <tr>\n",
       "      <th>MultipleLines_No</th>\n",
       "      <td>19.978</td>\n",
       "    </tr>\n",
       "    <tr>\n",
       "      <th>StreamingTV_Yes</th>\n",
       "      <td>9.967</td>\n",
       "    </tr>\n",
       "    <tr>\n",
       "      <th>StreamingMovies_Yes</th>\n",
       "      <td>9.961</td>\n",
       "    </tr>\n",
       "    <tr>\n",
       "      <th>TechSupport_Yes</th>\n",
       "      <td>5.031</td>\n",
       "    </tr>\n",
       "    <tr>\n",
       "      <th>DeviceProtection_Yes</th>\n",
       "      <td>5.020</td>\n",
       "    </tr>\n",
       "    <tr>\n",
       "      <th>OnlineSecurity_Yes</th>\n",
       "      <td>5.016</td>\n",
       "    </tr>\n",
       "    <tr>\n",
       "      <th>OnlineBackup_Yes</th>\n",
       "      <td>4.991</td>\n",
       "    </tr>\n",
       "  </tbody>\n",
       "</table>\n",
       "</div>"
      ],
      "text/plain": [
       "                             $ Per month\n",
       "InternetService_Fiber optic       49.982\n",
       "InternetService_DSL               25.004\n",
       "MultipleLines_Yes                 24.995\n",
       "MultipleLines_No                  19.978\n",
       "StreamingTV_Yes                    9.967\n",
       "StreamingMovies_Yes                9.961\n",
       "TechSupport_Yes                    5.031\n",
       "DeviceProtection_Yes               5.020\n",
       "OnlineSecurity_Yes                 5.016\n",
       "OnlineBackup_Yes                   4.991"
      ]
     },
     "execution_count": 24,
     "metadata": {},
     "output_type": "execute_result"
    },
    {
     "data": {
      "image/png": "[encoded data removed]",
      "text/plain": [
       "<matplotlib.figure.Figure at 0x29b959eb6a0>"
      ]
     },
     "metadata": {},
     "output_type": "display_data"
    }
   ],
   "source": [
    "# Fit Linear Regression for Monthly Charges using services\n",
    "from sklearn.linear_model import LinearRegression\n",
    "LinReg = LinearRegression(fit_intercept=False)\n",
    "yLin = ch.MonthlyCharges\n",
    "LinReg.fit(XLin,yLin)\n",
    "pred = LinReg.predict(XLin)\n",
    "print(\"R^2 of the fit:\",np.round(LinReg.score(XLin,yLin),3))\n",
    "print(\"MSE of the model {:.2f}\".format(np.mean((pred - yLin) ** 2)))\n",
    "lincoeff = pd.DataFrame(np.round(LinReg.coef_,3),index=XLin.columns,columns=['$ Per month'])\n",
    "lincoeff.sort_values('$ Per month',ascending=False).plot.bar(color='orange')\n",
    "lincoeff.sort_values('$ Per month',ascending=False)"
   ]
  },
  {
   "cell_type": "markdown",
   "metadata": {},
   "source": [
    "**Remarks:**\n",
    "+ The Model is a Good fit as shown by R^2 and MSE\n",
    "+ The monthly charges are proportional to services taken, no fixed charges.  \n",
    "+ Fiber optic internet is the most expensive service at \\$50, the double of DSL. \n",
    "+ Streaming Sevices are priced around \\$9.94, Other internet related services are around \\$\n",
    "+ A single phone line costs \\$20, an additional line costs \\$5\n",
    "+ We will next examine residuals just to make sure the assumptions hold true and hence results are reliable"
   ]
  },
  {
   "cell_type": "code",
   "execution_count": 25,
   "metadata": {
    "ExecuteTime": {
     "end_time": "2018-02-18T23:32:25.865314Z",
     "start_time": "2018-02-18T23:32:25.280374Z"
    }
   },
   "outputs": [
    {
     "name": "stdout",
     "output_type": "stream",
     "text": [
      "Percentage of outliers:3.96\n"
     ]
    },
    {
     "data": {
      "image/png": "[encoded data removed]",
      "text/plain": [
       "<matplotlib.figure.Figure at 0x29b95b59c18>"
      ]
     },
     "metadata": {},
     "output_type": "display_data"
    },
    {
     "data": {
      "text/plain": [
       "<matplotlib.figure.Figure at 0x29b95b59550>"
      ]
     },
     "metadata": {},
     "output_type": "display_data"
    },
    {
     "data": {
      "image/png": "[encoded data removed]",
      "text/plain": [
       "<matplotlib.figure.Figure at 0x29b93a0b978>"
      ]
     },
     "metadata": {},
     "output_type": "display_data"
    }
   ],
   "source": [
    "# Checking for verification of normality\n",
    "resid = pred-yLin\n",
    "_ = sm.qqplot(resid,line='r')\n",
    "_ = plt.title('Quantile Plot')\n",
    "_ = plt.figure()\n",
    "_ = sns.jointplot(pred,resid,color='r')\n",
    "_ = plt.title('Residual Plot')\n",
    "print(\"Percentage of outliers:{:.2f}\".format(100*((abs(resid) > 2.25).sum())*resid.std()/XLin.shape[0]))\n",
    "#(abs(resid) > resid.std()unt()\n",
    "#print(\"Indices of outlier points:\",list(np.argsort(abs(pred-ydev)).tail(10)))"
   ]
  },
  {
   "cell_type": "markdown",
   "metadata": {},
   "source": [
    "+ The quantile Plot is nearly linear implying normality.\n",
    "+ Normal distribution is further confirmed by the histogram to the right of the second plot. (The residue Vs Monthly Charges)\n",
    "+ Correlation of monthly charges with residual is very small. Indicates good fit\n",
    "+ As a result, we include all other variables and drop MonthlyCharges from next predictive model"
   ]
  },
  {
   "cell_type": "code",
   "execution_count": 27,
   "metadata": {
    "ExecuteTime": {
     "end_time": "2018-02-18T23:32:26.493320Z",
     "start_time": "2018-02-18T23:32:26.037396Z"
    }
   },
   "outputs": [
    {
     "data": {
      "text/plain": [
       "<matplotlib.axes._subplots.AxesSubplot at 0x29b93785a20>"
      ]
     },
     "execution_count": 27,
     "metadata": {},
     "output_type": "execute_result"
    },
    {
     "data": {
      "image/png": "[encoded data removed]",
      "text/plain": [
       "<matplotlib.figure.Figure at 0x29b959a0f98>"
      ]
     },
     "metadata": {},
     "output_type": "display_data"
    }
   ],
   "source": [
    "# We need to drop a few dummies to prevent correlations, in nonservice specific ones.\n",
    "# Plotting correlation for top 10 features\n",
    "# Ref : https://matplotlib.org/examples/color/colormaps_reference.html for colormap\n",
    "X.drop('MonthlyCharges',axis=1,inplace=True)\n",
    "_ = plt.figure(figsize=(16,12))\n",
    "mask = np.zeros_like(X.corr(), dtype=np.bool)\n",
    "mask[np.triu_indices_from(mask)] = True\n",
    "sns.heatmap(X.corr(),mask=mask,cmap='bwr')"
   ]
  },
  {
   "cell_type": "markdown",
   "metadata": {},
   "source": [
    "Wow! That is good, except for a couple of strong squares. These will be okay."
   ]
  },
  {
   "cell_type": "markdown",
   "metadata": {},
   "source": [
    "### 4) Training and Testing Predictive Models\n",
    " \n",
    "The goals of Predictive Model fitting are,\n",
    "+ To identify the customers with high probability of switching to competition\n",
    "+ To identify the major causes behind the tendency to leave (feature importance)\n",
    "+ To make predictions and assess the capacity of the model for future data (Predictive power)\n",
    "+ Use all the results and make recommendations to the telecom company.\n",
    "\n",
    "#### Metrics to assess the model:\n",
    "We are interested in customers who have tendency to go away (i.e. label 1). We may not mind a few false alarms especially if the measures taken to retain them is relatively inexpensive compared to the loss due to missing the true alarms. The measures taken on the customers who had no intention to leave can result in improved customer satisfaction and hence long term benefits.\n",
    "\n",
    "We want high recall on class 1. "
   ]
  },
  {
   "cell_type": "code",
   "execution_count": 28,
   "metadata": {
    "ExecuteTime": {
     "end_time": "2018-02-18T23:32:26.720726Z",
     "start_time": "2018-02-18T23:32:26.495138Z"
    }
   },
   "outputs": [
    {
     "name": "stderr",
     "output_type": "stream",
     "text": [
      "C:\\Users\\Aparn\\Anaconda3\\lib\\site-packages\\sklearn\\cross_validation.py:41: DeprecationWarning: This module was deprecated in version 0.18 in favor of the model_selection module into which all the refactored classes and functions are moved. Also note that the interface of the new CV iterators are different from that of this module. This module will be removed in 0.20.\n",
      "  \"This module will be removed in 0.20.\", DeprecationWarning)\n"
     ]
    }
   ],
   "source": [
    "from sklearn.metrics import confusion_matrix, classification_report,accuracy_score\n",
    "from sklearn.metrics import roc_curve, auc\n",
    "from sklearn.model_selection import cross_val_score\n",
    "from sklearn.linear_model import LogisticRegression\n",
    "from sklearn.preprocessing import StandardScaler\n",
    "from sklearn.cross_validation import train_test_split\n",
    "from sklearn.tree import DecisionTreeClassifier\n",
    "from sklearn.svm import SVC\n",
    "from sklearn.ensemble import RandomForestClassifier\n",
    "from sklearn import tree"
   ]
  },
  {
   "cell_type": "code",
   "execution_count": 29,
   "metadata": {},
   "outputs": [
    {
     "name": "stderr",
     "output_type": "stream",
     "text": [
      "C:\\Users\\Aparn\\Anaconda3\\lib\\site-packages\\sklearn\\grid_search.py:42: DeprecationWarning: This module was deprecated in version 0.18 in favor of the model_selection module into which all the refactored classes and functions are moved. This module will be removed in 0.20.\n",
      "  DeprecationWarning)\n"
     ]
    }
   ],
   "source": [
    "# - - - - - - - - - - - - - - - - - - - - - - - - - - - - - - - - - - - - - - - - - - #\n",
    "# clf - original classifier\n",
    "# parameters - grid to search over\n",
    "# X - usually your training X matrix\n",
    "# y - usually your training y \n",
    "# - - - - - - - - - - - - - - - - - - - - - - - - - - - - - - - - - - - - - - - - - - #\n",
    "from sklearn.grid_search import GridSearchCV\n",
    "\n",
    "def cv_optimize(clf, parameters, X, y, n_jobs=2, n_folds=5, score_func=None):\n",
    "    if score_func:\n",
    "        gs = GridSearchCV(clf, param_grid=parameters, cv=n_folds, n_jobs=n_jobs, scoring=score_func)\n",
    "    else:\n",
    "        gs = GridSearchCV(clf, param_grid=parameters, n_jobs=n_jobs, cv=n_folds)\n",
    "    gs.fit(X, y)\n",
    "    print(\"BEST\", gs.best_params_, gs.best_score_)\n",
    "    #print(gs.grid_scores_)\n",
    "    best = gs.best_estimator_\n",
    "    return best\n",
    "#------------------------------------------------------------------------------#\n",
    "# Function to plot ROC and find area under ROC                                 #\n",
    "#------------------------------------------------------------------------------#\n",
    "def find_auc_score(clf,Xin,yin,color='b',name='LogReg',label=1,prob=1) :\n",
    "    '''Function to plot Receiver characteristics and find AUC'''\n",
    "    if prob == 1:\n",
    "        yscore = clf.predict_proba(Xin)\n",
    "    else :\n",
    "        yscore = clf.decision_function(Xin)\n",
    "    false_positive_rate, true_positive_rate, thresholds = roc_curve(yin, yscore[:,label],pos_label=label)\n",
    "    roc_auc = auc(false_positive_rate, true_positive_rate)\n",
    "    plt.title('Receiver Operating Characteristic')\n",
    "    plt.plot(false_positive_rate, true_positive_rate,color ,label='AUC '+name+' = %0.2f'% roc_auc)\n",
    "    plt.legend(loc='lower right')\n",
    "    plt.plot([0,1],[0,1],'r--')\n",
    "    plt.xlim([-0.01,1.01])\n",
    "    plt.ylim([-0.01,1.01])\n",
    "    plt.ylabel('True Positive Rate')\n",
    "    plt.xlabel('False Positive Rate')\n",
    "    return roc_auc\n",
    "\n",
    "\n",
    "def pre_process_Xy(Xarray,yarray,test_tr_split_size=0.4) :\n",
    "    '''Function to split given data into test and (train, dev) set'''\n",
    "    Xtr,Xdev,ytr,ydev = train_test_split(Xarray,yarray,test_size=test_tr_split_size,random_state=42,stratify=yarray)\n",
    "    return Xtr,Xdev,ytr,ydev\n",
    "# - - - - - - - - - - - - - - - - - - - - - - - - - - - - - - - - - - - - - - - - - - #\n",
    "# Important parameters\n",
    "# indf - Input dataframe\n",
    "# featurenames - vector of names of predictors\n",
    "# targetname - name of column you want to predict (e.g. 0 or 1, 'M' or 'F', \n",
    "#              'yes' or 'no')\n",
    "# target1val - particular value you want to have as a 1 in the target\n",
    "# mask - boolean vector indicating test set (~mask is training set)\n",
    "# reuse_split - dictionary that contains traning and testing dataframes \n",
    "#              (we'll use this to test different classifiers on the same \n",
    "#              test-train splits)\n",
    "# score_func - we've used the accuracy as a way of scoring algorithms but \n",
    "#              this can be more general later on\n",
    "# n_folds - Number of folds for cross validation ()\n",
    "# n_jobs - used for parallelization\n",
    "# - - - - - - - - - - - - - - - - - - - - - - - - - - - - - - - - - - - - - - - - - - #\n",
    "\n",
    "def plot_train_test_error(clf,X,y,N=50):\n",
    "    '''This function plots Train and Test Accuracy for different lengths'''\n",
    "\n",
    "    training_error = np.empty([N,1])\n",
    "    dev_error = np.empty([N,1])\n",
    "    len_tr = int(X.shape[0]/N)\n",
    "    re_ind = np.random.permutation(X.index)\n",
    "    X = X.reindex(re_ind)\n",
    "    y = y.reindex(re_ind)\n",
    "    for i in range(N) :\n",
    "        X1 = X[:(i+1)*len_tr]\n",
    "        y1 = y[:(i+1)*len_tr]\n",
    "        Xtr,Xte,ytr,yte = train_test_split(X1,y1,test_size=0.5,random_state=42,stratify=y1)\n",
    "        clf = clf.fit(Xtr, ytr)\n",
    "        training_error[i,0] = 1 - clf.score(Xtr, ytr)\n",
    "        dev_error[i,0] = 1 - clf.score(Xte, yte)\n",
    "    \n",
    "    plt.plot(np.arange(N)*len_tr,training_error.reshape(np.arange(N).shape),label='train error')\n",
    "    plt.plot(np.arange(N)*len_tr,dev_error.reshape(np.arange(N).shape),color='m',label='test error')\n",
    "    plt.title('Train Error and Test Error Vs Number of Samples used (train: test 1:1 ratio)')\n",
    "    plt.ylabel('Error rate')\n",
    "    plt.xlabel('Number of samples')\n",
    "    plt.legend(loc='best')\n",
    "    return\n",
    "    \n",
    "def do_classify(clf, parameters, Xtr,ytr,Xdev,ydev, score_func=None, n_folds=5, n_jobs=2,model_name='LogReg',label=1,prob_dec=1):\n",
    "\n",
    "    if parameters:\n",
    "        clf = cv_optimize(clf, parameters, Xtr, ytr, n_jobs=n_jobs, n_folds=n_folds, score_func=score_func)\n",
    "    clf=clf.fit(Xtr, ytr)\n",
    "    training_accuracy = clf.score(Xtr, ytr)\n",
    "    test_accuracy = clf.score(Xdev, ydev)\n",
    "    print(\"############# based on standard predict ################\")\n",
    "    print(\"Accuracy on training data: %0.2f\" % (100*training_accuracy)+'%')\n",
    "    print(\"Accuracy on test data:     %0.2f\" % (100*test_accuracy)+'%')\n",
    "    print(\"confusion_matrix on dev data\")\n",
    "    ypred =  clf.predict(Xdev)\n",
    "    print(confusion_matrix(ydev,ypred))\n",
    "    print(\"classification report on dev data\")\n",
    "    print(classification_report(ydev,ypred))\n",
    "    print(\"########################################################\")\n",
    "  #  multi_auc_roc(clf,Xdev,ydev,prob=1)\n",
    "    auc_tr = find_auc_score(clf,Xtr,ytr,color='g',name=model_name+'_tr',label=label,prob=prob_dec) \n",
    "    auc_dev = find_auc_score(clf,Xdev,ydev,color='orange',name=model_name+'_dev',label=label,prob=prob_dec) \n",
    "    return clf,auc_tr,auc_dev\n"
   ]
  },
  {
   "cell_type": "markdown",
   "metadata": {},
   "source": [
    "### 5) Logistc Regression Classifier\n",
    "\n",
    "There are two numerical variables, and they don't need standardization. Result in terms of performance is found to be same with and without. Hence not doing."
   ]
  },
  {
   "cell_type": "code",
   "execution_count": 30,
   "metadata": {
    "ExecuteTime": {
     "end_time": "2018-02-18T23:32:27.092460Z",
     "start_time": "2018-02-18T23:32:26.720726Z"
    },
    "scrolled": true
   },
   "outputs": [
    {
     "name": "stdout",
     "output_type": "stream",
     "text": [
      "BEST {'C': 0.1, 'class_weight': 'balanced'} 0.7805436179205409\n",
      "############# based on standard predict ################\n",
      "Accuracy on training data: 75.17%\n",
      "Accuracy on test data:     74.63%\n",
      "confusion_matrix on dev data\n",
      "[[1494  576]\n",
      " [ 139  609]]\n",
      "classification report on dev data\n",
      "             precision    recall  f1-score   support\n",
      "\n",
      "          0       0.91      0.72      0.81      2070\n",
      "          1       0.51      0.81      0.63       748\n",
      "\n",
      "avg / total       0.81      0.75      0.76      2818\n",
      "\n",
      "########################################################\n",
      "Wall time: 6.68 s\n"
     ]
    },
    {
     "data": {
      "image/png": "[encoded data removed]",
      "text/plain": [
       "<matplotlib.figure.Figure at 0x29b936bc828>"
      ]
     },
     "metadata": {},
     "output_type": "display_data"
    }
   ],
   "source": [
    "%%time\n",
    "# Keep a copy to access columns\n",
    "Xcpy = X.copy()\n",
    "X['tenure'] = X['tenure'].transform(lambda x: (x - x.mean()) / x.std())\n",
    "Xtrain, Xdev, ytrain,ydev = train_test_split(X,y,test_size=0.4,stratify=y)\n",
    "# This is commented because hyperparameter tuning is not done currently.\n",
    "#Xdev, Xtest, ydev,ytest = train_test_split(Xt,yt,test_size=0.5,random_state=42,stratify=yt)\n",
    "parameters = {\"C\": [0.1,1,10,100,10000],\"class_weight\":['balanced',None]}\n",
    "logreg,aucrf1,aucrf2 = do_classify(LogisticRegression(), parameters, Xtrain,ytrain,Xdev,ydev, score_func='recall', n_folds=5, n_jobs=2,label=1,prob_dec=1)"
   ]
  },
  {
   "cell_type": "markdown",
   "metadata": {},
   "source": [
    "**Remarks:** The model is having similar accuracy on dev and train set. Since the class weight is set to balanced, the model has adjusted for imbalance by sampling methods. In logistic regression model, one can not do better than this, once the training and dev set accuracy is equal. Ref: The book, Introduction to Statistical Learning, Chapter 2"
   ]
  },
  {
   "cell_type": "code",
   "execution_count": 31,
   "metadata": {
    "ExecuteTime": {
     "end_time": "2018-02-18T23:32:27.258836Z",
     "start_time": "2018-02-18T23:32:27.092460Z"
    }
   },
   "outputs": [
    {
     "data": {
      "text/html": [
       "<div>\n",
       "<style scoped>\n",
       "    .dataframe tbody tr th:only-of-type {\n",
       "        vertical-align: middle;\n",
       "    }\n",
       "\n",
       "    .dataframe tbody tr th {\n",
       "        vertical-align: top;\n",
       "    }\n",
       "\n",
       "    .dataframe thead th {\n",
       "        text-align: right;\n",
       "    }\n",
       "</style>\n",
       "<table border=\"1\" class=\"dataframe\">\n",
       "  <thead>\n",
       "    <tr style=\"text-align: right;\">\n",
       "      <th></th>\n",
       "      <th>Coeff value</th>\n",
       "    </tr>\n",
       "  </thead>\n",
       "  <tbody>\n",
       "    <tr>\n",
       "      <th>InternetService_Fiber optic</th>\n",
       "      <td>1.352</td>\n",
       "    </tr>\n",
       "    <tr>\n",
       "      <th>Contract_Two year</th>\n",
       "      <td>-1.191</td>\n",
       "    </tr>\n",
       "    <tr>\n",
       "      <th>tenure</th>\n",
       "      <td>-0.797</td>\n",
       "    </tr>\n",
       "    <tr>\n",
       "      <th>Contract_One year</th>\n",
       "      <td>-0.634</td>\n",
       "    </tr>\n",
       "    <tr>\n",
       "      <th>InternetService_DSL</th>\n",
       "      <td>0.519</td>\n",
       "    </tr>\n",
       "    <tr>\n",
       "      <th>MultipleLines_No</th>\n",
       "      <td>-0.480</td>\n",
       "    </tr>\n",
       "    <tr>\n",
       "      <th>StreamingMovies_Yes</th>\n",
       "      <td>0.379</td>\n",
       "    </tr>\n",
       "    <tr>\n",
       "      <th>SeniorCitizen</th>\n",
       "      <td>0.339</td>\n",
       "    </tr>\n",
       "    <tr>\n",
       "      <th>PaperlessBilling_Yes</th>\n",
       "      <td>0.277</td>\n",
       "    </tr>\n",
       "    <tr>\n",
       "      <th>OnlineSecurity_Yes</th>\n",
       "      <td>-0.271</td>\n",
       "    </tr>\n",
       "    <tr>\n",
       "      <th>PaymentMethod_Electronic check</th>\n",
       "      <td>0.270</td>\n",
       "    </tr>\n",
       "    <tr>\n",
       "      <th>PaymentMethod_Mailed check</th>\n",
       "      <td>-0.242</td>\n",
       "    </tr>\n",
       "    <tr>\n",
       "      <th>TechSupport_Yes</th>\n",
       "      <td>-0.236</td>\n",
       "    </tr>\n",
       "    <tr>\n",
       "      <th>StreamingTV_Yes</th>\n",
       "      <td>0.209</td>\n",
       "    </tr>\n",
       "    <tr>\n",
       "      <th>OnlineBackup_Yes</th>\n",
       "      <td>-0.151</td>\n",
       "    </tr>\n",
       "    <tr>\n",
       "      <th>PaymentMethod_Bank transfer (automatic)</th>\n",
       "      <td>-0.138</td>\n",
       "    </tr>\n",
       "    <tr>\n",
       "      <th>Partner_Yes</th>\n",
       "      <td>-0.106</td>\n",
       "    </tr>\n",
       "    <tr>\n",
       "      <th>MultipleLines_Yes</th>\n",
       "      <td>-0.102</td>\n",
       "    </tr>\n",
       "    <tr>\n",
       "      <th>Dependents_Yes</th>\n",
       "      <td>-0.059</td>\n",
       "    </tr>\n",
       "    <tr>\n",
       "      <th>gender_Female</th>\n",
       "      <td>0.048</td>\n",
       "    </tr>\n",
       "    <tr>\n",
       "      <th>DeviceProtection_Yes</th>\n",
       "      <td>-0.023</td>\n",
       "    </tr>\n",
       "  </tbody>\n",
       "</table>\n",
       "</div>"
      ],
      "text/plain": [
       "                                         Coeff value\n",
       "InternetService_Fiber optic                    1.352\n",
       "Contract_Two year                             -1.191\n",
       "tenure                                        -0.797\n",
       "Contract_One year                             -0.634\n",
       "InternetService_DSL                            0.519\n",
       "MultipleLines_No                              -0.480\n",
       "StreamingMovies_Yes                            0.379\n",
       "SeniorCitizen                                  0.339\n",
       "PaperlessBilling_Yes                           0.277\n",
       "OnlineSecurity_Yes                            -0.271\n",
       "PaymentMethod_Electronic check                 0.270\n",
       "PaymentMethod_Mailed check                    -0.242\n",
       "TechSupport_Yes                               -0.236\n",
       "StreamingTV_Yes                                0.209\n",
       "OnlineBackup_Yes                              -0.151\n",
       "PaymentMethod_Bank transfer (automatic)       -0.138\n",
       "Partner_Yes                                   -0.106\n",
       "MultipleLines_Yes                             -0.102\n",
       "Dependents_Yes                                -0.059\n",
       "gender_Female                                  0.048\n",
       "DeviceProtection_Yes                          -0.023"
      ]
     },
     "execution_count": 31,
     "metadata": {},
     "output_type": "execute_result"
    },
    {
     "data": {
      "image/png": "[encoded data removed]",
      "text/plain": [
       "<matplotlib.figure.Figure at 0x29b939169e8>"
      ]
     },
     "metadata": {},
     "output_type": "display_data"
    }
   ],
   "source": [
    "coeff=logreg.coef_\n",
    "intercept = logreg.intercept_\n",
    "coeffs_b= logreg.coef_[0,np.argsort(abs(logreg.coef_[0,:]))[::-1]]\n",
    "names_b = list(Xcpy.columns[np.argsort(abs(logreg.coef_[0,:]))[::-1]])\n",
    "logfimp = pd.DataFrame(np.round(coeffs_b,3),index=names_b,columns=['Coeff value'])\n",
    "_ = logfimp.head(10).plot.bar(color='purple')\n",
    "_ = plt.title('Feature Importance (Log Reg)')\n",
    "_ = plt.ylabel('Coefficient value')\n",
    "_ = plt.xlabel('Features')\n",
    "logfimp"
   ]
  },
  {
   "cell_type": "markdown",
   "metadata": {},
   "source": [
    "**Interpretation:** The negative coefficients indicate that customers with higher magnitude for negative coefficient tend to remain loyal and higher for positive coefficients indicate the opposite. "
   ]
  },
  {
   "cell_type": "markdown",
   "metadata": {},
   "source": [
    "**Scikit-learn's RFE**: Scikit Learn has a nice package called Recursive feature elimination (RFE). Given an external estimator that assigns weights to features (e.g., the coefficients of a linear model), the goal of RFE is to select features by recursively considering smaller and smaller sets of features. First, the estimator is trained on the initial set of features and the importance of each feature is obtained either through a coef_ attribute or through a feature_importances_ attribute. Then, the least important features are pruned from current set of features. That procedure is recursively repeated on the pruned set until the desired number of features to select is eventually reached."
   ]
  },
  {
   "cell_type": "code",
   "execution_count": 32,
   "metadata": {
    "ExecuteTime": {
     "end_time": "2018-02-18T23:32:27.548929Z",
     "start_time": "2018-02-18T23:32:27.259926Z"
    }
   },
   "outputs": [
    {
     "name": "stdout",
     "output_type": "stream",
     "text": [
      "Chosen Predictors: Index(['SeniorCitizen', 'tenure', 'MultipleLines_No', 'InternetService_DSL',\n",
      "       'InternetService_Fiber optic', 'OnlineSecurity_Yes',\n",
      "       'StreamingMovies_Yes', 'Contract_One year', 'Contract_Two year',\n",
      "       'PaymentMethod_Electronic check'],\n",
      "      dtype='object')\n",
      "Report:\n",
      "              precision    recall  f1-score   support\n",
      "\n",
      "          0       0.91      0.75      0.82      2070\n",
      "          1       0.54      0.80      0.64       748\n",
      "\n",
      "avg / total       0.81      0.77      0.78      2818\n",
      "\n",
      "Dev Set Accuracy % 76.51\n",
      "Train set Accuracy % 73.51\n"
     ]
    },
    {
     "data": {
      "image/png": "[encoded data removed]",
      "text/plain": [
       "<matplotlib.figure.Figure at 0x29b93b3ee10>"
      ]
     },
     "metadata": {},
     "output_type": "display_data"
    }
   ],
   "source": [
    "# Trying Feature Selection by limiting to 10\n",
    "from sklearn.feature_selection import RFE\n",
    "model = LogisticRegression(class_weight='balanced')\n",
    "rfe = RFE(model, 10)\n",
    "rfe = rfe.fit(Xtrain, ytrain)\n",
    "# After RFE has chosen, now do a prediction using that\n",
    "print(\"Chosen Predictors:\",Xcpy.columns[rfe.support_])\n",
    "Xp = Xcpy.loc[:,Xcpy.columns[rfe.support_]]\n",
    "Xp = sc.fit_transform(Xp)\n",
    "Xtrain1, Xt, ytrain1,yt = train_test_split(Xp,y,test_size=0.4,stratify=y)\n",
    "logreg = LogisticRegression(class_weight='balanced')\n",
    "logreg.fit(Xtrain1,ytrain1)\n",
    "yp = logreg.predict(Xt)\n",
    "print(\"Report:\\n\",classification_report(yt,yp))\n",
    "print(\"Dev Set Accuracy %\",np.round(accuracy_score(yt,yp)*100,2))\n",
    "print(\"Train set Accuracy %\",np.round(accuracy_score(ytrain1,logreg.predict(Xtrain1))*100,2))\n",
    "yprob = logreg.predict_proba(Xt)\n",
    "false_positive_rate, true_positive_rate, thresholds = roc_curve(yt, yprob[:,1],pos_label=1)\n",
    "roc_auc = auc(false_positive_rate, true_positive_rate)\n",
    "_ = plt.title('Receiver Operating Characteristic')\n",
    "_ = plt.plot(false_positive_rate, true_positive_rate, 'b',label='AUC = %0.2f'% roc_auc)\n",
    "_ = plt.legend(loc='lower right')\n",
    "_ = plt.plot([0,1],[0,1],'r--')\n",
    "_ = plt.xlim([-0.01,1.01])\n",
    "_ = plt.ylim([-0.01,1.01])\n",
    "_ = plt.ylabel('True Positive Rate')\n",
    "_ = plt.xlabel('False Positive Rate')"
   ]
  },
  {
   "cell_type": "markdown",
   "metadata": {},
   "source": [
    "**Remarks**: Performance with RFE is slightly degraded. That is expected as only 10 predictors are used as opposed to double of that earlier."
   ]
  },
  {
   "cell_type": "code",
   "execution_count": 33,
   "metadata": {
    "ExecuteTime": {
     "end_time": "2018-02-18T23:32:27.565116Z",
     "start_time": "2018-02-18T23:32:27.550934Z"
    }
   },
   "outputs": [
    {
     "name": "stdout",
     "output_type": "stream",
     "text": [
      "Coefficients and their values in decreasing importance\n"
     ]
    },
    {
     "data": {
      "text/html": [
       "<div>\n",
       "<style scoped>\n",
       "    .dataframe tbody tr th:only-of-type {\n",
       "        vertical-align: middle;\n",
       "    }\n",
       "\n",
       "    .dataframe tbody tr th {\n",
       "        vertical-align: top;\n",
       "    }\n",
       "\n",
       "    .dataframe thead th {\n",
       "        text-align: right;\n",
       "    }\n",
       "</style>\n",
       "<table border=\"1\" class=\"dataframe\">\n",
       "  <thead>\n",
       "    <tr style=\"text-align: right;\">\n",
       "      <th></th>\n",
       "      <th>Coeff value</th>\n",
       "    </tr>\n",
       "  </thead>\n",
       "  <tbody>\n",
       "    <tr>\n",
       "      <th>InternetService_Fiber optic</th>\n",
       "      <td>0.89</td>\n",
       "    </tr>\n",
       "    <tr>\n",
       "      <th>tenure</th>\n",
       "      <td>-0.85</td>\n",
       "    </tr>\n",
       "    <tr>\n",
       "      <th>Contract_Two year</th>\n",
       "      <td>-0.63</td>\n",
       "    </tr>\n",
       "    <tr>\n",
       "      <th>InternetService_DSL</th>\n",
       "      <td>0.39</td>\n",
       "    </tr>\n",
       "    <tr>\n",
       "      <th>StreamingMovies_Yes</th>\n",
       "      <td>0.21</td>\n",
       "    </tr>\n",
       "    <tr>\n",
       "      <th>PaymentMethod_Electronic check</th>\n",
       "      <td>0.20</td>\n",
       "    </tr>\n",
       "    <tr>\n",
       "      <th>Contract_One year</th>\n",
       "      <td>-0.19</td>\n",
       "    </tr>\n",
       "    <tr>\n",
       "      <th>OnlineSecurity_Yes</th>\n",
       "      <td>-0.19</td>\n",
       "    </tr>\n",
       "    <tr>\n",
       "      <th>SeniorCitizen</th>\n",
       "      <td>0.13</td>\n",
       "    </tr>\n",
       "    <tr>\n",
       "      <th>MultipleLines_No</th>\n",
       "      <td>-0.11</td>\n",
       "    </tr>\n",
       "  </tbody>\n",
       "</table>\n",
       "</div>"
      ],
      "text/plain": [
       "                                Coeff value\n",
       "InternetService_Fiber optic            0.89\n",
       "tenure                                -0.85\n",
       "Contract_Two year                     -0.63\n",
       "InternetService_DSL                    0.39\n",
       "StreamingMovies_Yes                    0.21\n",
       "PaymentMethod_Electronic check         0.20\n",
       "Contract_One year                     -0.19\n",
       "OnlineSecurity_Yes                    -0.19\n",
       "SeniorCitizen                          0.13\n",
       "MultipleLines_No                      -0.11"
      ]
     },
     "execution_count": 33,
     "metadata": {},
     "output_type": "execute_result"
    }
   ],
   "source": [
    "# Coefficients with LogReg\n",
    "Xp = Xcpy.loc[:,Xcpy.columns[rfe.support_]]\n",
    "coeffs = logreg.coef_[0,np.argsort(abs(logreg.coef_[0,:]))[::-1]]\n",
    "names = list(Xp.columns[np.argsort(abs(logreg.coef_[0,:]))[::-1]])\n",
    "print(\"Coefficients and their values in decreasing importance\")\n",
    "pd.DataFrame(np.round(coeffs,2),index=names,columns=['Coeff value'])"
   ]
  },
  {
   "cell_type": "markdown",
   "metadata": {},
   "source": [
    "**Remarks**: The feature importance is not really matching with and without RFE. RFE is an overkill for problems with small number of features."
   ]
  },
  {
   "cell_type": "code",
   "execution_count": 34,
   "metadata": {
    "ExecuteTime": {
     "end_time": "2018-02-18T23:32:27.773595Z",
     "start_time": "2018-02-18T23:32:27.565116Z"
    }
   },
   "outputs": [
    {
     "name": "stdout",
     "output_type": "stream",
     "text": [
      "Threshold Chosen for classification: 0.5\n",
      "Threshold Tenure:27 months\n",
      "Max and Min Prob values:0.84 and 0.16\n",
      "Train Set Accuracy :63.67%\n",
      "Dev Set Accuracy 64.16%\n",
      "Report:\n",
      "              precision    recall  f1-score   support\n",
      "\n",
      "          0       0.87      0.60      0.71      2070\n",
      "          1       0.40      0.74      0.52       748\n",
      "\n",
      "avg / total       0.74      0.64      0.66      2818\n",
      "\n",
      "Coefficient:-0.037, Intercept:0.997\n"
     ]
    },
    {
     "data": {
      "image/png": "[encoded data removed]",
      "text/plain": [
       "<matplotlib.figure.Figure at 0x29b93664cf8>"
      ]
     },
     "metadata": {},
     "output_type": "display_data"
    }
   ],
   "source": [
    "# To evaluate the extent of relation between churn and tenure, trying Logistic with tenure alone.\n",
    "# Recognizing that tenure and churn are just correlated, it may not be causation\n",
    "# We could verify if the coefficient with this is close to that obtained by the first \n",
    "# logistic regression that includes all variables\n",
    "logreg_red = LogisticRegression(class_weight='balanced')\n",
    "Xtrain, Xdev, ytrain,ydev = train_test_split(np.array(ch['tenure']),y,test_size=0.4,random_state=42,stratify=y)\n",
    "logreg_red.fit(Xtrain.reshape(-1,1),ytrain)\n",
    "ypred_red = logreg_red.predict_proba(Xdev.reshape(-1,1))\n",
    "_ = plt.plot(np.sort(ypred_red[:,1]),label = 'Probability values')\n",
    "ypred = logreg_red.predict(Xdev.reshape(-1,1))\n",
    "ypred_s = ypred[np.argsort(ypred_red[:,1])]\n",
    "spred = np.sort(ypred_red[:,1])\n",
    "vline = spred[ypred_s.argmax()]\n",
    "print(\"Threshold Chosen for classification:\",round(vline,2))\n",
    "print(\"Threshold Tenure:{} months\".format(round(0.997/0.037)))\n",
    "print(\"Max and Min Prob values:{} and {}\".format(round(ypred_red.max(),2),round(ypred_red.min(),2)))\n",
    "_ = plt.axhline(vline,color='k',linestyle='--',label = 'Threshold')\n",
    "_ = plt.scatter(np.arange(len(ypred)),ypred_s,color='m',marker='.',label = 'Predictions')\n",
    "_ = plt.legend(loc='best')\n",
    "_ = plt.xlabel('Test sample index')\n",
    "_ = plt.ylabel('Probability values')\n",
    "_ = plt.title('Probability Plot of Churn')\n",
    "print(\"Train Set Accuracy :{:.2f}%\".format(100*accuracy_score(ytrain,logreg_red.predict(Xtrain.reshape(-1,1)))))\n",
    "print(\"Dev Set Accuracy {:.2f}%\".format(100*accuracy_score(ydev,ypred)))\n",
    "print(\"Report:\\n\",classification_report(ydev,ypred))\n",
    "print(\"Coefficient:{}, Intercept:{}\".format(round(logreg_red.coef_[0,0],3),round(logreg_red.intercept_[0],3)))"
   ]
  },
  {
   "cell_type": "markdown",
   "metadata": {},
   "source": [
    "Even with tenure alone it gives about 64% overall accuracy, a mere 11% reduction compared to all features taken for the fitting.\n",
    "+ The coefficient value -0.037 is close to -0.030 obtained with the regression with all other variables included. This gives additional confidence.\n",
    "+ Churn is closely negatively correled with tenure.\n",
    "+ The curve ranges between 0.16 to 0.84, not between 0 to 1\n",
    "+ The threshold of 0.5 corresponds to tenure = 27 months => contract of two year is preferred.\n",
    "+ It should be noted that the sigmoid curve is almost linear between 0.66 and 0.23, corresponding to tenures 9 months and 60 months respectively. \n",
    "+ Before 9 months the curve is flat, implying, it takes lot of effort to make them subscribed for longer than a few months.\n",
    "+ After 60 months it is again flat at the other end, implying these customers have stabilized\n"
   ]
  },
  {
   "cell_type": "markdown",
   "metadata": {
    "collapsed": true
   },
   "source": [
    "### 6) Recommendations to retain the customers:\n",
    "A predictive model is given that ranks customers based on their probability of churn and the revenue that they bring.\n",
    "+ Use this model to prioritize whose concerns to be addressed first. Sometimes it might be case by case basis.\n",
    "+ Take the following actions immediately: \n",
    "  - Try striking a longer contract with new customers: two year or one year in that order of preference.\n",
    "  - Leverage the time to improve the quality of services, on the high cost ones like Fiber optic.\n",
    "  - Improve on the Technical support on all services like streaming, phone connection and internet. \n",
    "Be up-to-date with current technology.\n",
    "  - Collect customer feedback and act on it immediately to prevent new customer churn\n",
    "+ Next: It will be helpful to understand why churn started 5.5 years ago. Give more historical data to the data scientist for analysis.\n"
   ]
  },
  {
   "cell_type": "markdown",
   "metadata": {},
   "source": [
    "### 7) Scope for future work:\n",
    "+ More predictive models could be tried, however, there is no guarantee of better accuracy, as we have seen similar accuracy witn logistic regression and random forest. This actually means most of the variance in the data is explained.\n",
    "+ One could collect more data through surveys, analyze them using NLP techniques and take more measures.\n",
    "+ There is a scope to collect historical data on company customers over a few decades, and fight out clear reason for customer drop happened 70 years ago."
   ]
  },
  {
   "cell_type": "markdown",
   "metadata": {},
   "source": [
    "### 8) A Final Note:\n",
    "\n",
    "It was fun doing this small project. Made me understand what more I need to work on. In the process I learnt,\n",
    "+ Data Science Process\n",
    "+ To Apply Machine Learning basics studied in courses and text books. \n",
    "+ Metrics to measure the goodness of the model. Learnt that accuracy is definitely not a good enough measure in case of imbalanced classes. class_weight argument works magically by penalizing the mistakes in minority class more!\n",
    "\n",
    "Thanks for taking time to go through this project. Feedback is highly appreciated. Please email [me](mailto:aparnack@gmail.com) to discuss your views"
   ]
  },
  {
   "cell_type": "markdown",
   "metadata": {},
   "source": [
    "### 9) References:\n",
    "\n",
    "+ Introduction to Statistical Learning Book by Gareth James et. al\n",
    "+ Machine Learning Course by Andrew Ng in Coursera\n",
    "+ How to plot ROC is [here](https://datamize.wordpress.com/2015/01/24/how-to-plot-a-roc-curve-in-scikit-learn/)\n",
    "+ Colormap codes for heatmap [here](https://matplotlib.org/examples/color/colormaps_reference.html for colormap)\n",
    "+ [Here](https://towardsdatascience.com/predict-customer-churn-with-r-9e62357d47b4) is another implementation of this problem by Susan Li in Towards Data Science blog"
   ]
  },
  {
   "cell_type": "code",
   "execution_count": null,
   "metadata": {},
   "outputs": [],
   "source": []
  }
 ],
 "metadata": {
  "kernelspec": {
   "display_name": "Python 3",
   "language": "python",
   "name": "python3"
  },
  "language_info": {
   "codemirror_mode": {
    "name": "ipython",
    "version": 3
   },
   "file_extension": ".py",
   "mimetype": "text/x-python",
   "name": "python",
   "nbconvert_exporter": "python",
   "pygments_lexer": "ipython3",
   "version": "3.7.4"
  }
 },
 "nbformat": 4,
 "nbformat_minor": 2
}
